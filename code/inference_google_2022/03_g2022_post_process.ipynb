{
 "cells": [
  {
   "cell_type": "code",
   "execution_count": 1,
   "id": "63550dfd",
   "metadata": {},
   "outputs": [],
   "source": [
    "import pandas as pd\n",
    "import numpy as np\n",
    "import os"
   ]
  },
  {
   "cell_type": "code",
   "execution_count": null,
   "id": "10d0f6cf",
   "metadata": {},
   "outputs": [],
   "source": [
    "issue = pd.read_csv(\"../../data/google_22_output_multi.csv\")"
   ]
  },
  {
   "cell_type": "code",
   "execution_count": 3,
   "id": "76608abb",
   "metadata": {},
   "outputs": [
    {
     "data": {
      "text/html": [
       "<div>\n",
       "<style scoped>\n",
       "    .dataframe tbody tr th:only-of-type {\n",
       "        vertical-align: middle;\n",
       "    }\n",
       "\n",
       "    .dataframe tbody tr th {\n",
       "        vertical-align: top;\n",
       "    }\n",
       "\n",
       "    .dataframe thead th {\n",
       "        text-align: right;\n",
       "    }\n",
       "</style>\n",
       "<table border=\"1\" class=\"dataframe\">\n",
       "  <thead>\n",
       "    <tr style=\"text-align: right;\">\n",
       "      <th></th>\n",
       "      <th>text</th>\n",
       "      <th>id</th>\n",
       "      <th>ISSUE215</th>\n",
       "      <th>ISSUE10</th>\n",
       "      <th>ISSUE30</th>\n",
       "      <th>ISSUE40</th>\n",
       "      <th>ISSUE212</th>\n",
       "      <th>ISSUE12</th>\n",
       "      <th>ISSUE16</th>\n",
       "      <th>ISSUE209</th>\n",
       "      <th>...</th>\n",
       "      <th>ISSUE91</th>\n",
       "      <th>ISSUE56</th>\n",
       "      <th>ISSUE53</th>\n",
       "      <th>ISSUE90</th>\n",
       "      <th>ISSUE65</th>\n",
       "      <th>ISSUE45</th>\n",
       "      <th>ISSUE60</th>\n",
       "      <th>ISSUE58</th>\n",
       "      <th>ISSUE22</th>\n",
       "      <th>ISSUE32</th>\n",
       "    </tr>\n",
       "  </thead>\n",
       "  <tbody>\n",
       "    <tr>\n",
       "      <th>0</th>\n",
       "      <td>'30 MASSEY- HARRIS PAID FOR BY DAVID TRONE FOR...</td>\n",
       "      <td>CR01131952237317193729__aws_ocr_video_text|CR0...</td>\n",
       "      <td>0</td>\n",
       "      <td>0</td>\n",
       "      <td>0</td>\n",
       "      <td>0</td>\n",
       "      <td>1</td>\n",
       "      <td>1</td>\n",
       "      <td>0</td>\n",
       "      <td>0</td>\n",
       "      <td>...</td>\n",
       "      <td>0</td>\n",
       "      <td>0</td>\n",
       "      <td>0</td>\n",
       "      <td>0</td>\n",
       "      <td>0</td>\n",
       "      <td>0</td>\n",
       "      <td>0</td>\n",
       "      <td>0</td>\n",
       "      <td>0</td>\n",
       "      <td>0</td>\n",
       "    </tr>\n",
       "    <tr>\n",
       "      <th>1</th>\n",
       "      <td>'HER WAY' \"\"КОТЕК CROSSED THE LINE\"\" OPB.ORG N...</td>\n",
       "      <td>CR01885433262180925441__aws_ocr_video_text|CR0...</td>\n",
       "      <td>0</td>\n",
       "      <td>0</td>\n",
       "      <td>0</td>\n",
       "      <td>1</td>\n",
       "      <td>1</td>\n",
       "      <td>0</td>\n",
       "      <td>0</td>\n",
       "      <td>0</td>\n",
       "      <td>...</td>\n",
       "      <td>0</td>\n",
       "      <td>0</td>\n",
       "      <td>0</td>\n",
       "      <td>0</td>\n",
       "      <td>0</td>\n",
       "      <td>1</td>\n",
       "      <td>0</td>\n",
       "      <td>0</td>\n",
       "      <td>0</td>\n",
       "      <td>0</td>\n",
       "    </tr>\n",
       "  </tbody>\n",
       "</table>\n",
       "<p>2 rows × 27 columns</p>\n",
       "</div>"
      ],
      "text/plain": [
       "                                                text  \\\n",
       "0  '30 MASSEY- HARRIS PAID FOR BY DAVID TRONE FOR...   \n",
       "1  'HER WAY' \"\"КОТЕК CROSSED THE LINE\"\" OPB.ORG N...   \n",
       "\n",
       "                                                  id  ISSUE215  ISSUE10  \\\n",
       "0  CR01131952237317193729__aws_ocr_video_text|CR0...         0        0   \n",
       "1  CR01885433262180925441__aws_ocr_video_text|CR0...         0        0   \n",
       "\n",
       "   ISSUE30  ISSUE40  ISSUE212  ISSUE12  ISSUE16  ISSUE209  ...  ISSUE91  \\\n",
       "0        0        0         1        1        0         0  ...        0   \n",
       "1        0        1         1        0        0         0  ...        0   \n",
       "\n",
       "   ISSUE56  ISSUE53  ISSUE90  ISSUE65  ISSUE45  ISSUE60  ISSUE58  ISSUE22  \\\n",
       "0        0        0        0        0        0        0        0        0   \n",
       "1        0        0        0        0        1        0        0        0   \n",
       "\n",
       "   ISSUE32  \n",
       "0        0  \n",
       "1        0  \n",
       "\n",
       "[2 rows x 27 columns]"
      ]
     },
     "execution_count": 3,
     "metadata": {},
     "output_type": "execute_result"
    }
   ],
   "source": [
    "issue.head(2)"
   ]
  },
  {
   "cell_type": "code",
   "execution_count": 4,
   "id": "26107dc3",
   "metadata": {},
   "outputs": [],
   "source": [
    "# Function to get column names where value is 1 for the last 25 columns\n",
    "def get_active_features(row):\n",
    "    active_features = issue.columns[-25:][row.iloc[-25:] == 1]\n",
    "    return ','.join(active_features)"
   ]
  },
  {
   "cell_type": "code",
   "execution_count": 5,
   "id": "e9818229",
   "metadata": {},
   "outputs": [],
   "source": [
    "# Apply the function to each row\n",
    "issue['issue'] = issue.apply(get_active_features, axis=1)"
   ]
  },
  {
   "cell_type": "code",
   "execution_count": 6,
   "id": "5c931e25",
   "metadata": {},
   "outputs": [],
   "source": [
    "# Split ids\n",
    "issue['id'] = issue['id'].str.split('|')\n",
    "# \"Un-deduplicate\", or \"Re-hydrate\", in WMP lingo\n",
    "issue = issue.explode('id')\n",
    "# Split into ad id and field\n",
    "issue_ids = issue['id'].str.split('__', expand = True)\n",
    "issue_ids.columns = ['ad_id', 'field']\n",
    "issue = pd.concat([issue, issue_ids], axis = 1)\n",
    "issue = issue.drop(labels = ['id'], axis = 1)\n",
    "issue = issue[['ad_id', 'field', 'issue']]"
   ]
  },
  {
   "cell_type": "code",
   "execution_count": 7,
   "id": "8fd55800",
   "metadata": {},
   "outputs": [],
   "source": [
    "issue.rename(columns={'field': 'issue_field', 'issue': 'issue_class'}, inplace=True)"
   ]
  },
  {
   "cell_type": "code",
   "execution_count": 8,
   "id": "446ba0ae",
   "metadata": {},
   "outputs": [],
   "source": [
    "# Replace various representations of missing values with NaN\n",
    "missing_values = ['', None, 'NA', 'missing']\n",
    "issue['issue_class'] = issue['issue_class'].replace(missing_values, np.nan)\n",
    "issue = issue.dropna(subset=['issue_class'])"
   ]
  },
  {
   "cell_type": "code",
   "execution_count": 9,
   "id": "c53f8e79",
   "metadata": {},
   "outputs": [],
   "source": [
    "agg_issue = issue.groupby('ad_id').agg({'issue_field': lambda x: '|'.join(x),\n",
    "                                       'issue_class': lambda x: '|'.join(x)}).reset_index()"
   ]
  },
  {
   "cell_type": "code",
   "execution_count": 10,
   "id": "ae7b4024",
   "metadata": {},
   "outputs": [
    {
     "data": {
      "text/html": [
       "<div>\n",
       "<style scoped>\n",
       "    .dataframe tbody tr th:only-of-type {\n",
       "        vertical-align: middle;\n",
       "    }\n",
       "\n",
       "    .dataframe tbody tr th {\n",
       "        vertical-align: top;\n",
       "    }\n",
       "\n",
       "    .dataframe thead th {\n",
       "        text-align: right;\n",
       "    }\n",
       "</style>\n",
       "<table border=\"1\" class=\"dataframe\">\n",
       "  <thead>\n",
       "    <tr style=\"text-align: right;\">\n",
       "      <th></th>\n",
       "      <th>ad_id</th>\n",
       "      <th>issue_field</th>\n",
       "      <th>issue_class</th>\n",
       "    </tr>\n",
       "  </thead>\n",
       "  <tbody>\n",
       "    <tr>\n",
       "      <th>0</th>\n",
       "      <td>CR00000257354440376321</td>\n",
       "      <td>aws_ocr_video_text|google_asr_text</td>\n",
       "      <td>ISSUE10,ISSUE212|ISSUE10,ISSUE212</td>\n",
       "    </tr>\n",
       "    <tr>\n",
       "      <th>1</th>\n",
       "      <td>CR00000354386341527553</td>\n",
       "      <td>ad_text</td>\n",
       "      <td>ISSUE10</td>\n",
       "    </tr>\n",
       "    <tr>\n",
       "      <th>2</th>\n",
       "      <td>CR00001130641550737409</td>\n",
       "      <td>aws_ocr_video_text|google_asr_text</td>\n",
       "      <td>ISSUE212|ISSUE30,ISSUE212</td>\n",
       "    </tr>\n",
       "    <tr>\n",
       "      <th>3</th>\n",
       "      <td>CR00001435481149538305</td>\n",
       "      <td>google_asr_text</td>\n",
       "      <td>ISSUE91,ISSUE45</td>\n",
       "    </tr>\n",
       "    <tr>\n",
       "      <th>4</th>\n",
       "      <td>CR00002421743079653377</td>\n",
       "      <td>ad_title|ad_text</td>\n",
       "      <td>ISSUE22|ISSUE22</td>\n",
       "    </tr>\n",
       "  </tbody>\n",
       "</table>\n",
       "</div>"
      ],
      "text/plain": [
       "                    ad_id                         issue_field  \\\n",
       "0  CR00000257354440376321  aws_ocr_video_text|google_asr_text   \n",
       "1  CR00000354386341527553                             ad_text   \n",
       "2  CR00001130641550737409  aws_ocr_video_text|google_asr_text   \n",
       "3  CR00001435481149538305                     google_asr_text   \n",
       "4  CR00002421743079653377                    ad_title|ad_text   \n",
       "\n",
       "                         issue_class  \n",
       "0  ISSUE10,ISSUE212|ISSUE10,ISSUE212  \n",
       "1                            ISSUE10  \n",
       "2          ISSUE212|ISSUE30,ISSUE212  \n",
       "3                    ISSUE91,ISSUE45  \n",
       "4                    ISSUE22|ISSUE22  "
      ]
     },
     "execution_count": 10,
     "metadata": {},
     "output_type": "execute_result"
    }
   ],
   "source": [
    "agg_issue.head(5)"
   ]
  },
  {
   "cell_type": "code",
   "execution_count": 11,
   "id": "a55974e7",
   "metadata": {},
   "outputs": [
    {
     "data": {
      "text/plain": [
       "(47914, 3)"
      ]
     },
     "execution_count": 11,
     "metadata": {},
     "output_type": "execute_result"
    }
   ],
   "source": [
    "agg_issue.shape"
   ]
  },
  {
   "cell_type": "code",
   "execution_count": null,
   "id": "b18fdb1d",
   "metadata": {},
   "outputs": [],
   "source": [
    "agg_issue.to_csv(\"../../data/g2022_output_processed.csv\", index = False)"
   ]
  }
 ],
 "metadata": {
  "kernelspec": {
   "display_name": "Python 3 (ipykernel)",
   "language": "python",
   "name": "python3"
  },
  "language_info": {
   "codemirror_mode": {
    "name": "ipython",
    "version": 3
   },
   "file_extension": ".py",
   "mimetype": "text/x-python",
   "name": "python",
   "nbconvert_exporter": "python",
   "pygments_lexer": "ipython3",
   "version": "3.11.10"
  }
 },
 "nbformat": 4,
 "nbformat_minor": 5
}
