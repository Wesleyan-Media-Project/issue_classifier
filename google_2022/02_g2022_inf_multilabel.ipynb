{
 "cells": [
  {
   "cell_type": "code",
   "execution_count": null,
   "id": "d50028a7",
   "metadata": {},
   "outputs": [],
   "source": [
    "# Inference dataset (change)\n",
    "inference_dataset = '../data/google_22_for_inf.csv'\n",
    "text_field = 'text'\n",
    "output_file = '../data/google_22_output_25.csv'\n",
    "\n",
    "# Variable label file (don't change)\n",
    "label_file = '../data/issue_labels_25.txt'\n",
    "\n",
    "# Model files (usually don't change)\n",
    "model_pytorch_model = '../models/multilabel_trf_v1/model.safetensors'\n",
    "model_config = '../models/multilabel_trf_v1/config.json'"
   ]
  },
  {
   "cell_type": "code",
   "execution_count": 2,
   "id": "9ada75bc",
   "metadata": {},
   "outputs": [],
   "source": [
    "from tqdm import tqdm\n",
    "import os\n",
    "import shutil\n",
    "\n",
    "import numpy as np\n",
    "import pandas as pd\n",
    "import torch\n",
    "import transformers\n",
    "\n",
    "from transformers import (\n",
    "    AutoModelForSequenceClassification,\n",
    "    AutoTokenizer,\n",
    ")"
   ]
  },
  {
   "cell_type": "code",
   "execution_count": 4,
   "id": "0a5c1121",
   "metadata": {},
   "outputs": [
    {
     "data": {
      "text/plain": [
       "'./inference_dataset.csv'"
      ]
     },
     "execution_count": 4,
     "metadata": {},
     "output_type": "execute_result"
    }
   ],
   "source": [
    "#----\n",
    "# Make model dir if it doesn't already exist\n",
    "os.makedirs('models', exist_ok=True)\n",
    "# Copy the model files to the model dir\n",
    "shutil.copyfile(model_pytorch_model, 'models/model.safetensors')\n",
    "shutil.copyfile(model_config, 'models/config.json')\n",
    "\n",
    "# Copy inference data (here test set)\n",
    "shutil.copyfile(inference_dataset, './inference_dataset.csv')\n"
   ]
  },
  {
   "cell_type": "code",
   "execution_count": 5,
   "id": "848a411c",
   "metadata": {},
   "outputs": [
    {
     "name": "stdout",
     "output_type": "stream",
     "text": [
      "Using cuda device\n"
     ]
    }
   ],
   "source": [
    "# Get cpu, gpu or mps device for training.\n",
    "device = (\n",
    "    \"cuda\"\n",
    "    if torch.cuda.is_available()\n",
    "    else \"mps\"\n",
    "    if torch.backends.mps.is_available()\n",
    "    else \"cpu\"\n",
    ")\n",
    "print(f\"Using {device} device\")"
   ]
  },
  {
   "cell_type": "code",
   "execution_count": 6,
   "id": "e77cfe93",
   "metadata": {
    "scrolled": true
   },
   "outputs": [],
   "source": [
    "#----\n",
    "# Load the trained model and tokenizer\n",
    "model = AutoModelForSequenceClassification.from_pretrained('models').to(device)\n",
    "tokenizer = AutoTokenizer.from_pretrained(\"distilbert-base-uncased\")"
   ]
  },
  {
   "cell_type": "code",
   "execution_count": 7,
   "id": "fb0ff205",
   "metadata": {},
   "outputs": [],
   "source": [
    "#----\n",
    "# Load the inference dataset\n",
    "df = pd.read_csv('./inference_dataset.csv')\n",
    "df = df.dropna(subset = [text_field]) # remove NAs\n",
    "df = df[df[text_field] != '_error'] # remove errors\n",
    "df = df.reset_index(drop = True)\n",
    "\n",
    "# Load the variable labels\n",
    "with open('../data/issue_labels_25.txt', 'r') as reader:\n",
    "    labels = reader.read().split('\\n')\n",
    "# They were created like this:\n",
    "# df = pd.read_csv('data/issues_tv_fb_18_20.csv')\n",
    "# with open('data/issue_labels_65.txt', 'w') as writer:\n",
    "#   for i in df.columns[2:].tolist():\n",
    "#     writer.write(i + '\\n')"
   ]
  },
  {
   "cell_type": "code",
   "execution_count": 8,
   "id": "23d7793d",
   "metadata": {
    "scrolled": true
   },
   "outputs": [
    {
     "name": "stderr",
     "output_type": "stream",
     "text": [
      "Tokenizing batches:   0%|          | 0/2937 [00:00<?, ?batch/s]"
     ]
    },
    {
     "name": "stderr",
     "output_type": "stream",
     "text": [
      "Tokenizing batches: 100%|██████████| 2937/2937 [00:23<00:00, 126.02batch/s]\n"
     ]
    }
   ],
   "source": [
    "#----\n",
    "# Inference\n",
    "\n",
    "# Batch the text Series (batch size 16)\n",
    "texts = df[text_field].to_list()\n",
    "batch_size = 16\n",
    "list_df = [texts[i:i+batch_size] for i in range(0,len(texts),batch_size)]\n",
    "\n",
    "# Use the tokenizer to encode the Series in batches\n",
    "batched_examples = []\n",
    "for text_chunk in tqdm(list_df, desc=\"Tokenizing batches\", unit=\"batch\"):\n",
    "    batched_examples.append(tokenizer.batch_encode_plus(\n",
    "        text_chunk, truncation=True, padding=True, return_tensors=\"pt\"\n",
    "    ))\n"
   ]
  },
  {
   "cell_type": "code",
   "execution_count": 9,
   "id": "60eb0526",
   "metadata": {},
   "outputs": [
    {
     "name": "stderr",
     "output_type": "stream",
     "text": [
      "100%|██████████| 2937/2937 [24:37<00:00,  1.99it/s]\n"
     ]
    }
   ],
   "source": [
    "# Batch inference\n",
    "# For inference, calculating the gradients is unnecessary\n",
    "# with torch.no_grad(): turns them off, which is faster (seems about 10x faster on CPU, and 2x faster on GPU or so)\n",
    "outputs_list = []\n",
    "\n",
    "for encoded_chunk in tqdm(batched_examples):\n",
    "    encoded_chunk = {key: value.to(device) for key, value in encoded_chunk.items()}\n",
    "    \n",
    "    with torch.no_grad():\n",
    "        outputs_list.append(model(**encoded_chunk))"
   ]
  },
  {
   "cell_type": "code",
   "execution_count": 10,
   "id": "45e2766c",
   "metadata": {},
   "outputs": [],
   "source": [
    "# Convert to 1s and 0s\n",
    "preds_l = []\n",
    "for output in outputs_list:\n",
    "    preds = output.logits.sigmoid().cpu().numpy() > 0.5\n",
    "    preds = preds.astype(int)\n",
    "    preds_l.append(preds)\n",
    "\n",
    "outputs = np.vstack(preds_l)"
   ]
  },
  {
   "cell_type": "code",
   "execution_count": 11,
   "id": "2e9dec42",
   "metadata": {},
   "outputs": [],
   "source": [
    "# Convert to pd DataFrame and save\n",
    "df_preds = pd.DataFrame(outputs)\n",
    "df_preds.columns = labels[:]\n",
    "df_results = pd.concat([df, df_preds], axis = 1)\n",
    "df_results2 = df_results.dropna()\n",
    "df_results3 = df_results2.drop_duplicates()"
   ]
  },
  {
   "cell_type": "code",
   "execution_count": 12,
   "id": "006f2a6b",
   "metadata": {},
   "outputs": [
    {
     "data": {
      "text/html": [
       "<div>\n",
       "<style scoped>\n",
       "    .dataframe tbody tr th:only-of-type {\n",
       "        vertical-align: middle;\n",
       "    }\n",
       "\n",
       "    .dataframe tbody tr th {\n",
       "        vertical-align: top;\n",
       "    }\n",
       "\n",
       "    .dataframe thead th {\n",
       "        text-align: right;\n",
       "    }\n",
       "</style>\n",
       "<table border=\"1\" class=\"dataframe\">\n",
       "  <thead>\n",
       "    <tr style=\"text-align: right;\">\n",
       "      <th></th>\n",
       "      <th>text</th>\n",
       "      <th>id</th>\n",
       "      <th>ISSUE215</th>\n",
       "      <th>ISSUE10</th>\n",
       "      <th>ISSUE30</th>\n",
       "      <th>ISSUE40</th>\n",
       "      <th>ISSUE212</th>\n",
       "      <th>ISSUE12</th>\n",
       "      <th>ISSUE16</th>\n",
       "      <th>ISSUE209</th>\n",
       "      <th>...</th>\n",
       "      <th>ISSUE91</th>\n",
       "      <th>ISSUE56</th>\n",
       "      <th>ISSUE53</th>\n",
       "      <th>ISSUE90</th>\n",
       "      <th>ISSUE65</th>\n",
       "      <th>ISSUE45</th>\n",
       "      <th>ISSUE60</th>\n",
       "      <th>ISSUE58</th>\n",
       "      <th>ISSUE22</th>\n",
       "      <th>ISSUE32</th>\n",
       "    </tr>\n",
       "  </thead>\n",
       "  <tbody>\n",
       "    <tr>\n",
       "      <th>0</th>\n",
       "      <td>'30 MASSEY- HARRIS PAID FOR BY DAVID TRONE FOR...</td>\n",
       "      <td>CR01131952237317193729__aws_ocr_video_text|CR0...</td>\n",
       "      <td>0</td>\n",
       "      <td>0</td>\n",
       "      <td>0</td>\n",
       "      <td>0</td>\n",
       "      <td>1</td>\n",
       "      <td>1</td>\n",
       "      <td>0</td>\n",
       "      <td>0</td>\n",
       "      <td>...</td>\n",
       "      <td>0</td>\n",
       "      <td>0</td>\n",
       "      <td>0</td>\n",
       "      <td>0</td>\n",
       "      <td>0</td>\n",
       "      <td>0</td>\n",
       "      <td>0</td>\n",
       "      <td>0</td>\n",
       "      <td>0</td>\n",
       "      <td>0</td>\n",
       "    </tr>\n",
       "    <tr>\n",
       "      <th>1</th>\n",
       "      <td>'HER WAY' \"\"КОТЕК CROSSED THE LINE\"\" OPB.ORG N...</td>\n",
       "      <td>CR01885433262180925441__aws_ocr_video_text|CR0...</td>\n",
       "      <td>0</td>\n",
       "      <td>0</td>\n",
       "      <td>0</td>\n",
       "      <td>1</td>\n",
       "      <td>1</td>\n",
       "      <td>0</td>\n",
       "      <td>0</td>\n",
       "      <td>0</td>\n",
       "      <td>...</td>\n",
       "      <td>0</td>\n",
       "      <td>0</td>\n",
       "      <td>0</td>\n",
       "      <td>0</td>\n",
       "      <td>0</td>\n",
       "      <td>1</td>\n",
       "      <td>0</td>\n",
       "      <td>0</td>\n",
       "      <td>0</td>\n",
       "      <td>0</td>\n",
       "    </tr>\n",
       "    <tr>\n",
       "      <th>2</th>\n",
       "      <td>'No one wants to be a cop these days'  Across ...</td>\n",
       "      <td>CR10112608181852045313__aws_ocr_video_text</td>\n",
       "      <td>0</td>\n",
       "      <td>0</td>\n",
       "      <td>0</td>\n",
       "      <td>0</td>\n",
       "      <td>1</td>\n",
       "      <td>1</td>\n",
       "      <td>0</td>\n",
       "      <td>0</td>\n",
       "      <td>...</td>\n",
       "      <td>0</td>\n",
       "      <td>0</td>\n",
       "      <td>0</td>\n",
       "      <td>0</td>\n",
       "      <td>0</td>\n",
       "      <td>0</td>\n",
       "      <td>0</td>\n",
       "      <td>0</td>\n",
       "      <td>0</td>\n",
       "      <td>0</td>\n",
       "    </tr>\n",
       "    <tr>\n",
       "      <th>3</th>\n",
       "      <td>'Peace of mind': For Arizona veterans exposed ...</td>\n",
       "      <td>CR09381537402985644033__aws_ocr_video_text|CR1...</td>\n",
       "      <td>0</td>\n",
       "      <td>0</td>\n",
       "      <td>0</td>\n",
       "      <td>0</td>\n",
       "      <td>0</td>\n",
       "      <td>0</td>\n",
       "      <td>0</td>\n",
       "      <td>0</td>\n",
       "      <td>...</td>\n",
       "      <td>0</td>\n",
       "      <td>0</td>\n",
       "      <td>1</td>\n",
       "      <td>0</td>\n",
       "      <td>0</td>\n",
       "      <td>0</td>\n",
       "      <td>0</td>\n",
       "      <td>0</td>\n",
       "      <td>0</td>\n",
       "      <td>0</td>\n",
       "    </tr>\n",
       "    <tr>\n",
       "      <th>4</th>\n",
       "      <td>'S GO O T E Paid for by Future Majority BRIEFI...</td>\n",
       "      <td>CR11691957679105769473__aws_ocr_video_text</td>\n",
       "      <td>0</td>\n",
       "      <td>0</td>\n",
       "      <td>0</td>\n",
       "      <td>0</td>\n",
       "      <td>0</td>\n",
       "      <td>1</td>\n",
       "      <td>0</td>\n",
       "      <td>0</td>\n",
       "      <td>...</td>\n",
       "      <td>0</td>\n",
       "      <td>0</td>\n",
       "      <td>0</td>\n",
       "      <td>0</td>\n",
       "      <td>0</td>\n",
       "      <td>0</td>\n",
       "      <td>0</td>\n",
       "      <td>0</td>\n",
       "      <td>0</td>\n",
       "      <td>0</td>\n",
       "    </tr>\n",
       "  </tbody>\n",
       "</table>\n",
       "<p>5 rows × 27 columns</p>\n",
       "</div>"
      ],
      "text/plain": [
       "                                                text  \\\n",
       "0  '30 MASSEY- HARRIS PAID FOR BY DAVID TRONE FOR...   \n",
       "1  'HER WAY' \"\"КОТЕК CROSSED THE LINE\"\" OPB.ORG N...   \n",
       "2  'No one wants to be a cop these days'  Across ...   \n",
       "3  'Peace of mind': For Arizona veterans exposed ...   \n",
       "4  'S GO O T E Paid for by Future Majority BRIEFI...   \n",
       "\n",
       "                                                  id  ISSUE215  ISSUE10  \\\n",
       "0  CR01131952237317193729__aws_ocr_video_text|CR0...         0        0   \n",
       "1  CR01885433262180925441__aws_ocr_video_text|CR0...         0        0   \n",
       "2         CR10112608181852045313__aws_ocr_video_text         0        0   \n",
       "3  CR09381537402985644033__aws_ocr_video_text|CR1...         0        0   \n",
       "4         CR11691957679105769473__aws_ocr_video_text         0        0   \n",
       "\n",
       "   ISSUE30  ISSUE40  ISSUE212  ISSUE12  ISSUE16  ISSUE209  ...  ISSUE91  \\\n",
       "0        0        0         1        1        0         0  ...        0   \n",
       "1        0        1         1        0        0         0  ...        0   \n",
       "2        0        0         1        1        0         0  ...        0   \n",
       "3        0        0         0        0        0         0  ...        0   \n",
       "4        0        0         0        1        0         0  ...        0   \n",
       "\n",
       "   ISSUE56  ISSUE53  ISSUE90  ISSUE65  ISSUE45  ISSUE60  ISSUE58  ISSUE22  \\\n",
       "0        0        0        0        0        0        0        0        0   \n",
       "1        0        0        0        0        1        0        0        0   \n",
       "2        0        0        0        0        0        0        0        0   \n",
       "3        0        1        0        0        0        0        0        0   \n",
       "4        0        0        0        0        0        0        0        0   \n",
       "\n",
       "   ISSUE32  \n",
       "0        0  \n",
       "1        0  \n",
       "2        0  \n",
       "3        0  \n",
       "4        0  \n",
       "\n",
       "[5 rows x 27 columns]"
      ]
     },
     "execution_count": 12,
     "metadata": {},
     "output_type": "execute_result"
    }
   ],
   "source": [
    "df_results3.head()"
   ]
  },
  {
   "cell_type": "code",
   "execution_count": 13,
   "id": "63c5f2c3",
   "metadata": {},
   "outputs": [],
   "source": [
    "df_results3.to_csv(output_file, index = False, encoding='utf-8')"
   ]
  },
  {
   "cell_type": "code",
   "execution_count": 13,
   "id": "d8119123",
   "metadata": {
    "scrolled": true
   },
   "outputs": [],
   "source": [
    "#reupload\n",
    "#df_inf = pd.read_csv('google_22_output.csv', encoding='utf-8')"
   ]
  },
  {
   "cell_type": "code",
   "execution_count": 14,
   "id": "b9de42c7",
   "metadata": {},
   "outputs": [],
   "source": [
    "#df_inf.shape"
   ]
  },
  {
   "cell_type": "code",
   "execution_count": null,
   "id": "7d7d29a9",
   "metadata": {},
   "outputs": [],
   "source": []
  }
 ],
 "metadata": {
  "kernelspec": {
   "display_name": "wmp",
   "language": "python",
   "name": "python3"
  },
  "language_info": {
   "codemirror_mode": {
    "name": "ipython",
    "version": 3
   },
   "file_extension": ".py",
   "mimetype": "text/x-python",
   "name": "python",
   "nbconvert_exporter": "python",
   "pygments_lexer": "ipython3",
   "version": "3.10.15"
  }
 },
 "nbformat": 4,
 "nbformat_minor": 5
}
