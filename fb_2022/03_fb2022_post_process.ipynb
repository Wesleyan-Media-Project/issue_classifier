{
 "cells": [
  {
   "cell_type": "code",
   "execution_count": 1,
   "id": "3d26599d",
   "metadata": {},
   "outputs": [],
   "source": [
    "import pandas as pd\n",
    "import numpy as np\n",
    "import os"
   ]
  },
  {
   "cell_type": "code",
   "execution_count": null,
   "id": "9d20119d",
   "metadata": {},
   "outputs": [],
   "source": [
    "issue = pd.read_csv(\"../data/fb_22_output_multi_25.csv.gz\")"
   ]
  },
  {
   "cell_type": "code",
   "execution_count": 3,
   "id": "6ee7d6e4",
   "metadata": {},
   "outputs": [
    {
     "data": {
      "text/html": [
       "<div>\n",
       "<style scoped>\n",
       "    .dataframe tbody tr th:only-of-type {\n",
       "        vertical-align: middle;\n",
       "    }\n",
       "\n",
       "    .dataframe tbody tr th {\n",
       "        vertical-align: top;\n",
       "    }\n",
       "\n",
       "    .dataframe thead th {\n",
       "        text-align: right;\n",
       "    }\n",
       "</style>\n",
       "<table border=\"1\" class=\"dataframe\">\n",
       "  <thead>\n",
       "    <tr style=\"text-align: right;\">\n",
       "      <th></th>\n",
       "      <th>text</th>\n",
       "      <th>id</th>\n",
       "      <th>ISSUE215</th>\n",
       "      <th>ISSUE10</th>\n",
       "      <th>ISSUE30</th>\n",
       "      <th>ISSUE40</th>\n",
       "      <th>ISSUE212</th>\n",
       "      <th>ISSUE12</th>\n",
       "      <th>ISSUE16</th>\n",
       "      <th>ISSUE209</th>\n",
       "      <th>...</th>\n",
       "      <th>ISSUE91</th>\n",
       "      <th>ISSUE56</th>\n",
       "      <th>ISSUE53</th>\n",
       "      <th>ISSUE90</th>\n",
       "      <th>ISSUE65</th>\n",
       "      <th>ISSUE45</th>\n",
       "      <th>ISSUE60</th>\n",
       "      <th>ISSUE58</th>\n",
       "      <th>ISSUE22</th>\n",
       "      <th>ISSUE32</th>\n",
       "    </tr>\n",
       "  </thead>\n",
       "  <tbody>\n",
       "    <tr>\n",
       "      <th>0</th>\n",
       "      <td>'</td>\n",
       "      <td>x_4971277182972491__ad_creative_link_descripti...</td>\n",
       "      <td>0</td>\n",
       "      <td>0</td>\n",
       "      <td>0</td>\n",
       "      <td>0</td>\n",
       "      <td>0</td>\n",
       "      <td>0</td>\n",
       "      <td>0</td>\n",
       "      <td>0</td>\n",
       "      <td>...</td>\n",
       "      <td>0</td>\n",
       "      <td>0</td>\n",
       "      <td>0</td>\n",
       "      <td>0</td>\n",
       "      <td>0</td>\n",
       "      <td>0</td>\n",
       "      <td>0</td>\n",
       "      <td>0</td>\n",
       "      <td>0</td>\n",
       "      <td>0</td>\n",
       "    </tr>\n",
       "    <tr>\n",
       "      <th>1</th>\n",
       "      <td>' YOUR SOURCE FOR @GANDERNEWSROOM And I very m...</td>\n",
       "      <td>x_605605801303782__aws_ocr_text_vid</td>\n",
       "      <td>0</td>\n",
       "      <td>0</td>\n",
       "      <td>0</td>\n",
       "      <td>0</td>\n",
       "      <td>0</td>\n",
       "      <td>0</td>\n",
       "      <td>0</td>\n",
       "      <td>0</td>\n",
       "      <td>...</td>\n",
       "      <td>0</td>\n",
       "      <td>0</td>\n",
       "      <td>0</td>\n",
       "      <td>0</td>\n",
       "      <td>0</td>\n",
       "      <td>0</td>\n",
       "      <td>0</td>\n",
       "      <td>0</td>\n",
       "      <td>0</td>\n",
       "      <td>0</td>\n",
       "    </tr>\n",
       "  </tbody>\n",
       "</table>\n",
       "<p>2 rows × 27 columns</p>\n",
       "</div>"
      ],
      "text/plain": [
       "                                                text  \\\n",
       "0                                                  '   \n",
       "1  ' YOUR SOURCE FOR @GANDERNEWSROOM And I very m...   \n",
       "\n",
       "                                                  id  ISSUE215  ISSUE10  \\\n",
       "0  x_4971277182972491__ad_creative_link_descripti...         0        0   \n",
       "1                x_605605801303782__aws_ocr_text_vid         0        0   \n",
       "\n",
       "   ISSUE30  ISSUE40  ISSUE212  ISSUE12  ISSUE16  ISSUE209  ...  ISSUE91  \\\n",
       "0        0        0         0        0        0         0  ...        0   \n",
       "1        0        0         0        0        0         0  ...        0   \n",
       "\n",
       "   ISSUE56  ISSUE53  ISSUE90  ISSUE65  ISSUE45  ISSUE60  ISSUE58  ISSUE22  \\\n",
       "0        0        0        0        0        0        0        0        0   \n",
       "1        0        0        0        0        0        0        0        0   \n",
       "\n",
       "   ISSUE32  \n",
       "0        0  \n",
       "1        0  \n",
       "\n",
       "[2 rows x 27 columns]"
      ]
     },
     "execution_count": 3,
     "metadata": {},
     "output_type": "execute_result"
    }
   ],
   "source": [
    "issue.head(2)"
   ]
  },
  {
   "cell_type": "code",
   "execution_count": 4,
   "id": "df1bdba9",
   "metadata": {},
   "outputs": [],
   "source": [
    "# Function to get column names where value is 1 for the last 25 columns\n",
    "def get_active_features(row):\n",
    "    active_features = issue.columns[-25:][row.iloc[-25:] == 1]\n",
    "    return ','.join(active_features)"
   ]
  },
  {
   "cell_type": "code",
   "execution_count": 5,
   "id": "72236351",
   "metadata": {},
   "outputs": [],
   "source": [
    "# Apply the function to each row\n",
    "issue['issue'] = issue.apply(get_active_features, axis=1)"
   ]
  },
  {
   "cell_type": "code",
   "execution_count": 6,
   "id": "effa95b8",
   "metadata": {},
   "outputs": [],
   "source": [
    "# Split ids\n",
    "issue['id'] = issue['id'].str.split('|')\n",
    "# \"Un-deduplicate\", or \"Re-hydrate\", in WMP lingo\n",
    "issue = issue.explode('id')\n",
    "# Split into ad id and field\n",
    "issue_ids = issue['id'].str.split('__', expand = True)\n",
    "issue_ids.columns = ['ad_id', 'field']\n",
    "issue = pd.concat([issue, issue_ids], axis = 1)\n",
    "issue = issue.drop(labels = ['id'], axis = 1)\n",
    "issue = issue[['ad_id', 'field', 'issue']]"
   ]
  },
  {
   "cell_type": "code",
   "execution_count": 7,
   "id": "f3b8ea59",
   "metadata": {},
   "outputs": [],
   "source": [
    "issue.rename(columns={'field': 'issue_field', 'issue': 'issue_class'}, inplace=True)"
   ]
  },
  {
   "cell_type": "code",
   "execution_count": 8,
   "id": "3862bad1",
   "metadata": {},
   "outputs": [],
   "source": [
    "# Replace various representations of missing values with NaN\n",
    "missing_values = ['', None, 'NA', 'missing']\n",
    "issue['issue_class'] = issue['issue_class'].replace(missing_values, np.nan)\n",
    "issue = issue.dropna(subset=['issue_class'])"
   ]
  },
  {
   "cell_type": "code",
   "execution_count": 9,
   "id": "1981f150",
   "metadata": {},
   "outputs": [],
   "source": [
    "agg_issue = issue.groupby('ad_id').agg({'issue_field': lambda x: '|'.join(x),\n",
    "                                       'issue_class': lambda x: '|'.join(x)}).reset_index()"
   ]
  },
  {
   "cell_type": "code",
   "execution_count": 10,
   "id": "98821bf2",
   "metadata": {},
   "outputs": [
    {
     "data": {
      "text/html": [
       "<div>\n",
       "<style scoped>\n",
       "    .dataframe tbody tr th:only-of-type {\n",
       "        vertical-align: middle;\n",
       "    }\n",
       "\n",
       "    .dataframe tbody tr th {\n",
       "        vertical-align: top;\n",
       "    }\n",
       "\n",
       "    .dataframe thead th {\n",
       "        text-align: right;\n",
       "    }\n",
       "</style>\n",
       "<table border=\"1\" class=\"dataframe\">\n",
       "  <thead>\n",
       "    <tr style=\"text-align: right;\">\n",
       "      <th></th>\n",
       "      <th>ad_id</th>\n",
       "      <th>issue_field</th>\n",
       "      <th>issue_class</th>\n",
       "    </tr>\n",
       "  </thead>\n",
       "  <tbody>\n",
       "    <tr>\n",
       "      <th>0</th>\n",
       "      <td>x_1000009254731384</td>\n",
       "      <td>google_asr_text|aws_ocr_text_vid|ad_creative_body</td>\n",
       "      <td>ISSUE215,ISSUE10,ISSUE83,ISSUE56|ISSUE215,ISSU...</td>\n",
       "    </tr>\n",
       "    <tr>\n",
       "      <th>1</th>\n",
       "      <td>x_1000018871393117</td>\n",
       "      <td>ad_creative_link_description|page_name|ad_crea...</td>\n",
       "      <td>ISSUE215,ISSUE12|ISSUE55|ISSUE55|ISSUE16</td>\n",
       "    </tr>\n",
       "    <tr>\n",
       "      <th>2</th>\n",
       "      <td>x_1000032110674951</td>\n",
       "      <td>ad_creative_link_description|aws_ocr_text_img</td>\n",
       "      <td>ISSUE30|ISSUE30</td>\n",
       "    </tr>\n",
       "    <tr>\n",
       "      <th>3</th>\n",
       "      <td>x_1000047430680621</td>\n",
       "      <td>ad_creative_body</td>\n",
       "      <td>ISSUE30</td>\n",
       "    </tr>\n",
       "    <tr>\n",
       "      <th>4</th>\n",
       "      <td>x_1000072604727964</td>\n",
       "      <td>ad_creative_link_title|aws_ocr_text_img|ad_cre...</td>\n",
       "      <td>ISSUE83|ISSUE83|ISSUE215,ISSUE83</td>\n",
       "    </tr>\n",
       "  </tbody>\n",
       "</table>\n",
       "</div>"
      ],
      "text/plain": [
       "                ad_id                                        issue_field  \\\n",
       "0  x_1000009254731384  google_asr_text|aws_ocr_text_vid|ad_creative_body   \n",
       "1  x_1000018871393117  ad_creative_link_description|page_name|ad_crea...   \n",
       "2  x_1000032110674951      ad_creative_link_description|aws_ocr_text_img   \n",
       "3  x_1000047430680621                                   ad_creative_body   \n",
       "4  x_1000072604727964  ad_creative_link_title|aws_ocr_text_img|ad_cre...   \n",
       "\n",
       "                                         issue_class  \n",
       "0  ISSUE215,ISSUE10,ISSUE83,ISSUE56|ISSUE215,ISSU...  \n",
       "1           ISSUE215,ISSUE12|ISSUE55|ISSUE55|ISSUE16  \n",
       "2                                    ISSUE30|ISSUE30  \n",
       "3                                            ISSUE30  \n",
       "4                   ISSUE83|ISSUE83|ISSUE215,ISSUE83  "
      ]
     },
     "execution_count": 10,
     "metadata": {},
     "output_type": "execute_result"
    }
   ],
   "source": [
    "agg_issue.head(5)"
   ]
  },
  {
   "cell_type": "code",
   "execution_count": 11,
   "id": "5cd79f6b",
   "metadata": {},
   "outputs": [
    {
     "data": {
      "text/plain": [
       "(295098, 3)"
      ]
     },
     "execution_count": 11,
     "metadata": {},
     "output_type": "execute_result"
    }
   ],
   "source": [
    "agg_issue.shape"
   ]
  },
  {
   "cell_type": "code",
   "execution_count": null,
   "id": "ef4e1c27",
   "metadata": {},
   "outputs": [],
   "source": [
    "agg_issue.to_csv(\"../data/fb2022_output_processed_25.csv\", index = False)"
   ]
  },
  {
   "cell_type": "code",
   "execution_count": null,
   "id": "0aefa78e",
   "metadata": {},
   "outputs": [],
   "source": []
  }
 ],
 "metadata": {
  "kernelspec": {
   "display_name": "wmp",
   "language": "python",
   "name": "python3"
  },
  "language_info": {
   "codemirror_mode": {
    "name": "ipython",
    "version": 3
   },
   "file_extension": ".py",
   "mimetype": "text/x-python",
   "name": "python",
   "nbconvert_exporter": "python",
   "pygments_lexer": "ipython3",
   "version": "3.10.15"
  }
 },
 "nbformat": 4,
 "nbformat_minor": 5
}
