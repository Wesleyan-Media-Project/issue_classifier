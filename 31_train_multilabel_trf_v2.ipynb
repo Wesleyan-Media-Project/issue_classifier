{
 "cells": [
  {
   "cell_type": "code",
   "execution_count": null,
   "id": "cec5963a",
   "metadata": {
    "executionInfo": {
     "elapsed": 5548,
     "status": "ok",
     "timestamp": 1660247573978,
     "user": {
      "displayName": "Markus Neumann",
      "userId": "12563739067531413109"
     },
     "user_tz": 240
    },
    "id": "cec5963a"
   },
   "outputs": [],
   "source": [
    "import json\n",
    "import pickle\n",
    "import subprocess\n",
    "import time\n",
    "\n",
    "import datasets\n",
    "import numpy as np\n",
    "import pandas as pd\n",
    "import torch\n",
    "import transformers\n",
    "from datasets import Dataset\n",
    "from sklearn.model_selection import train_test_split\n",
    "from tqdm.notebook import tqdm\n",
    "from transformers import (\n",
    "    AutoModel,\n",
    "    AutoModelForSequenceClassification,\n",
    "    AutoTokenizer,\n",
    "    Trainer,\n",
    "    TrainingArguments,\n",
    "    set_seed,\n",
    ")\n",
    "from transformers.modeling_outputs import SequenceClassifierOutput\n",
    "from transformers.trainer_callback import EarlyStoppingCallback\n",
    "\n",
    "from sklearn import metrics\n",
    "from sklearn.metrics import accuracy_score, precision_recall_fscore_support, f1_score\n",
    "\n",
    "pd.set_option(\"display.precision\", 3)"
   ]
  },
  {
   "cell_type": "code",
   "execution_count": null,
   "id": "cc2c09a6",
   "metadata": {},
   "outputs": [],
   "source": [
    "class EmotionDataset(torch.utils.data.Dataset):\n",
    "    def __init__(self, encodings, labels):\n",
    "        self.encodings = encodings\n",
    "        self.labels = labels\n",
    "\n",
    "    def __getitem__(self, idx):\n",
    "        item = {key: torch.tensor(val[idx]) for key, val in self.encodings.items()}\n",
    "        item['labels'] = torch.tensor(self.labels[idx])\n",
    "        return item\n",
    "\n",
    "    def __len__(self):\n",
    "        return len(self.labels)\n",
    "\n",
    "class MultilabelTrainer(Trainer):\n",
    "    def compute_loss(self, model, inputs, return_outputs=False):\n",
    "        labels = inputs.pop(\"labels\")\n",
    "        outputs = model(**inputs)\n",
    "        logits = outputs.logits\n",
    "        loss_fct = torch.nn.BCEWithLogitsLoss()\n",
    "        loss = loss_fct(logits.view(-1, self.model.config.num_labels), \n",
    "                        labels.float().view(-1, self.model.config.num_labels))\n",
    "        return (loss, outputs) if return_outputs else loss\n",
    "    \n",
    "    \n",
    "def accuracy_thresh(y_pred, y_true, thresh=0.5, sigmoid=True): \n",
    "    y_pred = torch.from_numpy(y_pred)\n",
    "    y_true = torch.from_numpy(y_true)\n",
    "    if sigmoid:\n",
    "        y_pred = y_pred.sigmoid()\n",
    "    return ((y_pred>thresh)==y_true.bool()).float().mean().item()\n",
    "\n",
    "def weighted_f1_loss(y_pred, y_true, weight=2):\n",
    "    y_pred = torch.from_numpy(y_pred)\n",
    "    y_pred = y_pred.sigmoid()\n",
    "    y_pred[y_pred>=0.5] = 1\n",
    "    y_pred[y_pred<0.5] = 0\n",
    "\n",
    "    loss = 0\n",
    "    f1_scores = []\n",
    "    for i in range(len(y_true[0])):\n",
    "        f1 = f1_score(y_true[:,i],y_pred.int().numpy()[:,i])\n",
    "        f1_scores.append(f'{f1:9.4f}')\n",
    "        loss += weight*(1 -f1)\n",
    "    #print(loss, f1_scores)\n",
    "    return loss\n",
    "\n",
    "def compute_metrics(eval_pred):\n",
    "    predictions, labels = eval_pred\n",
    "    accuracy_thresh_value = accuracy_thresh(predictions, labels)\n",
    "    weighted_f1_loss_value = weighted_f1_loss(predictions, labels)\n",
    "    return {'accuracy_thresh': accuracy_thresh_value, 'f1_loss':weighted_f1_loss_value}    \n",
    "    \n",
    "    \n",
    "def compute_fine_metrics2(eval_pred,emotions):\n",
    "    metrics_result = {\n",
    "        \"f1\": [],\n",
    "        \"precision\": [],\n",
    "        \"recall\": [],\n",
    "        \"f1_micro\": [],\n",
    "        \"f1_macro\": [],\n",
    "        \"f1_weighted\": [],\n",
    "    }\n",
    "    predictions = eval_pred.predictions\n",
    "    labels = eval_pred.label_ids\n",
    "    predictions = torch.tensor(predictions)\n",
    "\n",
    "    preds_full = torch.sigmoid(predictions).cpu().detach().numpy().tolist()\n",
    "\n",
    "    preds_full = np.array(preds_full) >= 0.5\n",
    "    labels = np.array(labels) >= 0.5\n",
    "\n",
    "    for i, label in enumerate(emotions):\n",
    "        column_preds = preds_full[:, i]\n",
    "        column_labels = labels[:, i]\n",
    "        prf1 = metrics.precision_recall_fscore_support(\n",
    "            column_labels, column_preds, average=\"binary\"\n",
    "        )\n",
    "        metrics_result[\"f1\"].append(prf1[2])\n",
    "        metrics_result[\"precision\"].append(prf1[0])\n",
    "        metrics_result[\"recall\"].append(prf1[1])\n",
    "        metrics_result[\"f1_micro\"].append(\n",
    "            metrics.f1_score(column_labels, column_preds, average=\"micro\")\n",
    "        )\n",
    "        metrics_result[\"f1_macro\"].append(\n",
    "            metrics.f1_score(column_labels, column_preds, average=\"macro\")\n",
    "        )\n",
    "        metrics_result[\"f1_weighted\"].append(\n",
    "            metrics.f1_score(column_labels, column_preds, average=\"weighted\")\n",
    "        )\n",
    "\n",
    "    return metrics_result    \n",
    "\n",
    "def compute_metrics_single(pred):\n",
    "    labels = pred.label_ids\n",
    "    preds = pred.predictions.argmax(-1)\n",
    "    precision, recall, f1, _ = precision_recall_fscore_support(labels, preds, average='binary')\n",
    "    acc = accuracy_score(labels, preds)\n",
    "    f1_score_micro = f1_score(labels, preds, average='micro')\n",
    "    f1_score_macro = f1_score(labels, preds, average='macro')\n",
    "    f1_score_weighted = f1_score(labels, preds, average='weighted')\n",
    "    return {\n",
    "        'accuracy': acc,\n",
    "        'precision': precision,\n",
    "        'recall': recall,\n",
    "        'f1': f1,\n",
    "        'f1_micro': f1_score_micro,\n",
    "        'f1_macro': f1_score_macro,\n",
    "        'f1_weighted': f1_score_weighted,\n",
    "    }"
   ]
  },
  {
   "cell_type": "markdown",
   "id": "64879990",
   "metadata": {
    "id": "64879990"
   },
   "source": [
    "### Settings"
   ]
  },
  {
   "cell_type": "markdown",
   "id": "ZN1aSTw02afP",
   "metadata": {
    "id": "ZN1aSTw02afP"
   },
   "source": [
    "Experiments:\n",
    "- Dropout 0.2 (instead of 0.1 default) doesnt help with overfitting\n",
    "- weight decay 0 (which is default, but the paper uses 0.01) makes no difference\n",
    "- google/electra-small-discriminator compared to distilbert-base-uncased is terrible (0.09 avg F1 score on test set)\n",
    "- increasing batch size only speeds up training a little\n",
    "- smaller models (i.e. electra) allow for larger batch sizes before running oom (i.e. roberta for example doesn't work with 32)\n",
    "- roberta is mean f1 0.477 -- so not quite as good as distilbert"
   ]
  },
  {
   "cell_type": "code",
   "execution_count": null,
   "id": "57287633",
   "metadata": {
    "executionInfo": {
     "elapsed": 4,
     "status": "ok",
     "timestamp": 1660247574576,
     "user": {
      "displayName": "Markus Neumann",
      "userId": "12563739067531413109"
     },
     "user_tz": 240
    },
    "id": "57287633"
   },
   "outputs": [],
   "source": [
    "MODEL_NAME = \"distilbert-base-uncased\"\n",
    "DIR_OUTPT = \"./results\"\n",
    "DIR_LOG = \"./logs\"\n",
    "DIR_TRAINED_MODEL = \"./models/final_replication\"\n",
    "SIZE_VALIDATION_SET = 0.1\n",
    "SEED = 7"
   ]
  },
  {
   "cell_type": "code",
   "execution_count": null,
   "id": "f20580a6",
   "metadata": {
    "executionInfo": {
     "elapsed": 5,
     "status": "ok",
     "timestamp": 1660247574577,
     "user": {
      "displayName": "Markus Neumann",
      "userId": "12563739067531413109"
     },
     "user_tz": 240
    },
    "id": "f20580a6"
   },
   "outputs": [],
   "source": [
    "set_seed(SEED)"
   ]
  },
  {
   "cell_type": "markdown",
   "id": "fd00f192",
   "metadata": {
    "id": "fd00f192"
   },
   "source": [
    "## Prepare dataset"
   ]
  },
  {
   "cell_type": "markdown",
   "id": "4cd892e2",
   "metadata": {
    "id": "4cd892e2"
   },
   "source": [
    "### Load data"
   ]
  },
  {
   "cell_type": "code",
   "execution_count": null,
   "id": "RSU5IP_o6FDn",
   "metadata": {
    "executionInfo": {
     "elapsed": 252,
     "status": "ok",
     "timestamp": 1660247575046,
     "user": {
      "displayName": "Markus Neumann",
      "userId": "12563739067531413109"
     },
     "user_tz": 240
    },
    "id": "RSU5IP_o6FDn"
   },
   "outputs": [],
   "source": [
    "df_train_validation_test = pd.read_csv('data/issues_tv_fb_18_20_22.csv')"
   ]
  },
  {
   "cell_type": "code",
   "execution_count": null,
   "id": "4fba9873",
   "metadata": {},
   "outputs": [],
   "source": [
    "# recode 2s in issue 209 and 215 as 1s\n",
    "df_train_validation_test['ISSUE209'] = df_train_validation_test['ISSUE209'].replace(2, 1)\n",
    "df_train_validation_test['ISSUE215'] = df_train_validation_test['ISSUE215'].replace(2, 1)"
   ]
  },
  {
   "cell_type": "code",
   "execution_count": null,
   "id": "XbXNkYjU6gxX",
   "metadata": {
    "executionInfo": {
     "elapsed": 253,
     "status": "ok",
     "timestamp": 1660247575297,
     "user": {
      "displayName": "Markus Neumann",
      "userId": "12563739067531413109"
     },
     "user_tz": 240
    },
    "id": "XbXNkYjU6gxX"
   },
   "outputs": [],
   "source": [
    "df_train_validation, df_test = train_test_split(\n",
    "    df_train_validation_test, test_size=0.1, random_state=SEED\n",
    ")"
   ]
  },
  {
   "cell_type": "code",
   "execution_count": null,
   "id": "GVufN3gg2qkE",
   "metadata": {
    "executionInfo": {
     "elapsed": 3,
     "status": "ok",
     "timestamp": 1660247575298,
     "user": {
      "displayName": "Markus Neumann",
      "userId": "12563739067531413109"
     },
     "user_tz": 240
    },
    "id": "GVufN3gg2qkE"
   },
   "outputs": [],
   "source": [
    "issue_cols = [x for x in df_train_validation.columns if 'ISSUE' in x]"
   ]
  },
  {
   "cell_type": "code",
   "execution_count": null,
   "id": "WyrV4IeW3WPB",
   "metadata": {
    "executionInfo": {
     "elapsed": 1,
     "status": "ok",
     "timestamp": 1660247575799,
     "user": {
      "displayName": "Markus Neumann",
      "userId": "12563739067531413109"
     },
     "user_tz": 240
    },
    "id": "WyrV4IeW3WPB"
   },
   "outputs": [],
   "source": [
    "df_train_validation['list'] = df_train_validation[issue_cols].values.tolist()"
   ]
  },
  {
   "cell_type": "code",
   "execution_count": null,
   "id": "D1Gg48wa4OGD",
   "metadata": {
    "executionInfo": {
     "elapsed": 1,
     "status": "ok",
     "timestamp": 1660247576071,
     "user": {
      "displayName": "Markus Neumann",
      "userId": "12563739067531413109"
     },
     "user_tz": 240
    },
    "id": "D1Gg48wa4OGD"
   },
   "outputs": [],
   "source": [
    "df_test['list'] = df_test[issue_cols].values.tolist()"
   ]
  },
  {
   "cell_type": "code",
   "execution_count": null,
   "id": "9d493997",
   "metadata": {
    "colab": {
     "base_uri": "https://localhost:8080/"
    },
    "executionInfo": {
     "elapsed": 4,
     "status": "ok",
     "timestamp": 1660247576441,
     "user": {
      "displayName": "Markus Neumann",
      "userId": "12563739067531413109"
     },
     "user_tz": 240
    },
    "id": "9d493997",
    "outputId": "dd142ec9-2af9-4f15-bbea-a8c124d64034"
   },
   "outputs": [],
   "source": [
    "df_train, df_validation = train_test_split(\n",
    "    df_train_validation, test_size=0.1, random_state=SEED\n",
    ")\n",
    "\n",
    "print(\"Size of training set:\\t\", len(df_train))\n",
    "print(\"Size of validation set:\\t\", len(df_validation))\n",
    "print(\"Size of test set:\\t\", len(df_test))"
   ]
  },
  {
   "cell_type": "code",
   "execution_count": null,
   "id": "_l-1WRm75WZO",
   "metadata": {
    "executionInfo": {
     "elapsed": 2,
     "status": "ok",
     "timestamp": 1660247576442,
     "user": {
      "displayName": "Markus Neumann",
      "userId": "12563739067531413109"
     },
     "user_tz": 240
    },
    "id": "_l-1WRm75WZO"
   },
   "outputs": [],
   "source": [
    "df_train = df_train.dropna(axis = 0)\n",
    "df_validation = df_validation.dropna(axis = 0)\n",
    "df_test = df_test.dropna(axis = 0)"
   ]
  },
  {
   "cell_type": "code",
   "execution_count": null,
   "id": "2VVnJxbQ6E3X",
   "metadata": {
    "colab": {
     "base_uri": "https://localhost:8080/"
    },
    "executionInfo": {
     "elapsed": 3,
     "status": "ok",
     "timestamp": 1660247576673,
     "user": {
      "displayName": "Markus Neumann",
      "userId": "12563739067531413109"
     },
     "user_tz": 240
    },
    "id": "2VVnJxbQ6E3X",
    "outputId": "a83f4438-9334-4d92-9867-42218a4185ca"
   },
   "outputs": [],
   "source": [
    "print(\"Size of training set:\\t\", len(df_train))\n",
    "print(\"Size of validation set:\\t\", len(df_validation))\n",
    "print(\"Size of test set:\\t\", len(df_test))"
   ]
  },
  {
   "cell_type": "markdown",
   "id": "0b23e8dc",
   "metadata": {
    "id": "0b23e8dc"
   },
   "source": [
    "### Tokenize dataset"
   ]
  },
  {
   "cell_type": "code",
   "execution_count": null,
   "id": "04fde3eb",
   "metadata": {
    "colab": {
     "base_uri": "https://localhost:8080/",
     "height": 285,
     "referenced_widgets": [
      "dd7fa8879622411492879fa4e86d037a",
      "085f727c35c1455fa97be44ebd8b6e31",
      "f0adbb92ba524746a03a33bbfac87722",
      "0409cc78514a424c8f3a03e53208f433",
      "4d544a985e974d28950a1794b8bb94dd",
      "d1d0c502e38a411db57e0cc74a038c1c",
      "9eb4d30ba9324070aaa61dec3fbc1462",
      "cc8e7b4ca9f042d09e05f4693fb94d68",
      "5bece59422164ccfb0d0c34fc9674e25",
      "61c8d3d033df4e24a9f2d49b923a5744",
      "2a10e4dd74ac4aadb0f3856be8b877b4",
      "4439e45074dd42ed8a8d297edc307e0b",
      "1b46c3fd609449f2857a9d433ea85cf8",
      "152ee32904774a93a3aa07ab2a307e06",
      "be06ea6727284b9ab75dccafc092e039",
      "8b9147126b2a4b6b86af4cca13172e98",
      "e6cb6cf07e6f4e008796d03f6d75ffea",
      "2c2c5a438239428dbe4a9c974aef4fec",
      "60fd668fbaea405aa431cf0d467549ea",
      "c25a9dd5135d4ee381de80a37d3a04bc",
      "98e3980c3dbd47eeae10e633ec4a9cfd",
      "902c32050a7c435caac62511fe51e56f",
      "f765e4c286294cd7bb72aa3ce0cbe49c",
      "a7d0a3d917bb45f79542890c35aab9cc",
      "a5bbc7e02d55423fb0d7b41bd4d0bda2",
      "ddc64285bf9d4e19b17919b31fe30fcb",
      "bdec6cc466d241b690d851368066fbd9",
      "4a15c777eec546fda3d9beb50889c2f9",
      "21a59845ade04cf5bb01e1b3502e3eaf",
      "23843036ae6a42149cd7c7143cb94e73",
      "1c51c68749d2450a83a3f39baba694e1",
      "9492b64a3c004ed88bc09fbca1ec3122",
      "7397ad10dda64fcabb835bc934b4af92",
      "f183a7e92e91489cb66273f3a192f838",
      "64f2005435044eda893b12d0922f872b",
      "f2aab99665b74ff19550d2b82f33857e",
      "97784c7c218f4e6b87bf7e5cba651d30",
      "14a6305c3dbb43a2a71e60c5a21b1800",
      "666a97f7972446e6873d65ffb068d9a2",
      "b1eec077bba748fb9ea758f62b357771",
      "4fa43e5b5f0745a7a5358056a2186ece",
      "76c0f46c54b9473d816d035756c0c74e",
      "2351bd06c83c49ae82c1d298906868c4",
      "eb91c3a804d744609b575ecfd62ad637",
      "7fd9a1c6fe9e43d5a806fdf337d6a8ce",
      "b50ce707d04147f0b79c5b680fdff508",
      "62b2cdf4226f4defb6c0c2c732bcfebf",
      "d79dca6706f14f7d80ae3d66f694b12e",
      "e052d773374c43b6b9e6b7e5ff98311a",
      "dbee4b9f485b4b5ab93071347261b8c5",
      "bbe30f0889ff4bba94b2bd7d40f9f1c1",
      "474ed7825ace4d17b3e7451c804da34a",
      "ae07b043f5c24e538ce823118b49a37c",
      "50493c70100e44aaa3d50e0f2b71c946",
      "92c7482cc16140358d9bcba88a580ace"
     ]
    },
    "executionInfo": {
     "elapsed": 19853,
     "status": "ok",
     "timestamp": 1660247597261,
     "user": {
      "displayName": "Markus Neumann",
      "userId": "12563739067531413109"
     },
     "user_tz": 240
    },
    "id": "04fde3eb",
    "outputId": "093d4c42-c187-45fa-b559-456a6ffda27e"
   },
   "outputs": [],
   "source": [
    "# load model and tokenizer\n",
    "model = AutoModelForSequenceClassification.from_pretrained(MODEL_NAME, num_labels=len(issue_cols))\n",
    "tokenizer = AutoTokenizer.from_pretrained(MODEL_NAME)\n",
    "\n",
    "# preprocess data\n",
    "field_text = \"transcript\"\n",
    "field_label = \"list\"\n",
    "\n",
    "dataset_train = Dataset.from_pandas(df_train)\n",
    "dataset_validation = Dataset.from_pandas(df_validation)\n",
    "dataset_test = Dataset.from_pandas(df_test)\n",
    "\n",
    "# tokenize data\n",
    "train_encodings = tokenizer(dataset_train[field_text], truncation=True, padding=True)\n",
    "val_encodings = tokenizer(dataset_validation[field_text], truncation=True, padding=True)\n",
    "test_encodings = tokenizer(dataset_test[field_text], truncation=True, padding=True)\n",
    "\n",
    "train_dataset = EmotionDataset(train_encodings, dataset_train[field_label])\n",
    "val_dataset = EmotionDataset(val_encodings, dataset_validation[field_label])\n",
    "test_dataset = EmotionDataset(test_encodings, dataset_test[field_label])"
   ]
  },
  {
   "cell_type": "markdown",
   "id": "3861e15b",
   "metadata": {
    "id": "3861e15b"
   },
   "source": [
    "## Train model"
   ]
  },
  {
   "cell_type": "code",
   "execution_count": null,
   "id": "4cb83d04",
   "metadata": {
    "colab": {
     "base_uri": "https://localhost:8080/",
     "height": 1000
    },
    "executionInfo": {
     "elapsed": 12243910,
     "status": "ok",
     "timestamp": 1660259841169,
     "user": {
      "displayName": "Markus Neumann",
      "userId": "12563739067531413109"
     },
     "user_tz": 240
    },
    "id": "4cb83d04",
    "outputId": "273adc33-dd84-4d1f-9413-28e5615a3574",
    "scrolled": true
   },
   "outputs": [],
   "source": [
    "training_args = TrainingArguments(\n",
    "    output_dir=DIR_OUTPT,  # output directory\n",
    "    num_train_epochs=20,  # total # of training epochs (default is 4)\n",
    "    per_device_train_batch_size=20,  # batch size per device during training (default 32) -- going from 16 to 25 only reduces training time a little (i.e. 1:35h instead of 1:40h), 32 shaves off another 2 minutes\n",
    "    per_device_eval_batch_size=20,  # batch size for evaluation (default 32)\n",
    "    warmup_steps=250,  # number of warmup steps for learning rate scheduler\n",
    "    weight_decay=0.01,  # strength of weight decay\n",
    "    logging_dir=DIR_LOG,  # directory for storing logs\n",
    "    seed=SEED,\n",
    "    eval_strategy=\"epoch\",\n",
    "    save_strategy=\"epoch\",\n",
    "    load_best_model_at_end=True,\n",
    "    metric_for_best_model=\"f1_loss\",\n",
    "    greater_is_better=False,\n",
    "    run_name=MODEL_NAME,\n",
    ")\n",
    "\n",
    "trainer = MultilabelTrainer(\n",
    "    model=model,\n",
    "    args=training_args,\n",
    "    train_dataset=train_dataset,\n",
    "    eval_dataset=val_dataset,\n",
    "    compute_metrics=compute_metrics,\n",
    ")\n",
    "\n",
    "_ = trainer.train()\n",
    "trainer.evaluate()"
   ]
  },
  {
   "cell_type": "code",
   "execution_count": null,
   "id": "f1b98c23",
   "metadata": {},
   "outputs": [],
   "source": [
    "trainer.model.save_pretrained(f\"{DIR_TRAINED_MODEL}/{MODEL_NAME}/\")"
   ]
  },
  {
   "cell_type": "code",
   "execution_count": null,
   "id": "xSLzU59mNZpa",
   "metadata": {
    "executionInfo": {
     "elapsed": 2365,
     "status": "ok",
     "timestamp": 1660260193246,
     "user": {
      "displayName": "Markus Neumann",
      "userId": "12563739067531413109"
     },
     "user_tz": 240
    },
    "id": "xSLzU59mNZpa"
   },
   "outputs": [],
   "source": [
    "# Also save 10th rather than just last (20th) step\n",
    "#!mkdir drive/Shared drives/Delta Lab/github/issue_classifier/models/multilabel_trf_v1_step10\n",
    "#!cp ./results/checkpoint-11150/config.json drive/Shared drives/Delta Lab/github/issue_classifier/models/multilabel_trf_v1_step10/\n",
    "#!cp ./results/checkpoint-11150/pytorch_model.bin drive/Shared drives/Delta Lab/github/issue_classifier/models/multilabel_trf_v1_step10/"
   ]
  },
  {
   "cell_type": "code",
   "execution_count": null,
   "id": "6pvAeFqgFO3F",
   "metadata": {
    "colab": {
     "base_uri": "https://localhost:8080/"
    },
    "executionInfo": {
     "elapsed": 230,
     "status": "ok",
     "timestamp": 1660259842140,
     "user": {
      "displayName": "Markus Neumann",
      "userId": "12563739067531413109"
     },
     "user_tz": 240
    },
    "id": "6pvAeFqgFO3F",
    "outputId": "c8c95593-dd36-44ed-de5c-45bf89bb829b"
   },
   "outputs": [],
   "source": [
    "#!nvidia-smi"
   ]
  },
  {
   "cell_type": "markdown",
   "id": "eed7a1e0",
   "metadata": {
    "id": "eed7a1e0"
   },
   "source": [
    "## Evaluate model on test set"
   ]
  },
  {
   "cell_type": "code",
   "execution_count": null,
   "id": "bcf797aa",
   "metadata": {
    "colab": {
     "base_uri": "https://localhost:8080/",
     "height": 70
    },
    "executionInfo": {
     "elapsed": 24026,
     "status": "ok",
     "timestamp": 1660259866161,
     "user": {
      "displayName": "Markus Neumann",
      "userId": "12563739067531413109"
     },
     "user_tz": 240
    },
    "id": "bcf797aa",
    "outputId": "1f94eb59-f4ad-4d56-c249-52672f0a1c23"
   },
   "outputs": [],
   "source": [
    "results_all = trainer.predict(test_dataset)"
   ]
  },
  {
   "cell_type": "markdown",
   "id": "27a68268",
   "metadata": {
    "id": "27a68268"
   },
   "source": [
    "### Complete test set"
   ]
  },
  {
   "cell_type": "code",
   "execution_count": null,
   "id": "d4297ad9",
   "metadata": {
    "executionInfo": {
     "elapsed": 1517,
     "status": "ok",
     "timestamp": 1660259867673,
     "user": {
      "displayName": "Markus Neumann",
      "userId": "12563739067531413109"
     },
     "user_tz": 240
    },
    "id": "d4297ad9"
   },
   "outputs": [],
   "source": [
    "data = dict({\"issue\": issue_cols})\n",
    "to_add = {\n",
    "    \"Recall\": compute_fine_metrics2(results_all, issue_cols)[\"recall\"],\n",
    "    \"Precision\": compute_fine_metrics2(results_all, issue_cols)[\"precision\"],\n",
    "    \"F1\": compute_fine_metrics2(results_all, issue_cols)[\"f1\"],\n",
    "}\n",
    "df = pd.DataFrame.from_dict(dict(data, **to_add))"
   ]
  },
  {
   "cell_type": "code",
   "execution_count": null,
   "id": "WIHmjqSAjw4D",
   "metadata": {
    "colab": {
     "base_uri": "https://localhost:8080/",
     "height": 423
    },
    "executionInfo": {
     "elapsed": 240,
     "status": "ok",
     "timestamp": 1660259887984,
     "user": {
      "displayName": "Markus Neumann",
      "userId": "12563739067531413109"
     },
     "user_tz": 240
    },
    "id": "WIHmjqSAjw4D",
    "outputId": "e50c0f27-0d84-413b-e8fd-68c46158dc69",
    "scrolled": true
   },
   "outputs": [],
   "source": [
    "df"
   ]
  },
  {
   "cell_type": "code",
   "execution_count": null,
   "id": "OeiH2W6m1egv",
   "metadata": {
    "colab": {
     "base_uri": "https://localhost:8080/"
    },
    "executionInfo": {
     "elapsed": 218,
     "status": "ok",
     "timestamp": 1660259891230,
     "user": {
      "displayName": "Markus Neumann",
      "userId": "12563739067531413109"
     },
     "user_tz": 240
    },
    "id": "OeiH2W6m1egv",
    "outputId": "066b1373-ebf3-48de-eb59-0a655c938669"
   },
   "outputs": [],
   "source": [
    "df['F1'].mean()"
   ]
  },
  {
   "cell_type": "code",
   "execution_count": null,
   "id": "TVYNlOEUehwK",
   "metadata": {
    "executionInfo": {
     "elapsed": 205,
     "status": "ok",
     "timestamp": 1660259959364,
     "user": {
      "displayName": "Markus Neumann",
      "userId": "12563739067531413109"
     },
     "user_tz": 240
    },
    "id": "TVYNlOEUehwK"
   },
   "outputs": [],
   "source": [
    "df.to_csv('performance/performance_multilabel_trf_v4.csv')"
   ]
  },
  {
   "cell_type": "code",
   "execution_count": null,
   "id": "ehGfnM75jJnG",
   "metadata": {
    "executionInfo": {
     "elapsed": 2,
     "status": "ok",
     "timestamp": 1660259960198,
     "user": {
      "displayName": "Markus Neumann",
      "userId": "12563739067531413109"
     },
     "user_tz": 240
    },
    "id": "ehGfnM75jJnG"
   },
   "outputs": [],
   "source": [
    "predictions = results_all.predictions\n",
    "predictions = torch.tensor(predictions)\n",
    "preds_full = torch.sigmoid(predictions).cpu().detach().numpy().tolist()"
   ]
  },
  {
   "cell_type": "code",
   "execution_count": null,
   "id": "RaxbZwOXi3a7",
   "metadata": {
    "executionInfo": {
     "elapsed": 2,
     "status": "ok",
     "timestamp": 1660259961255,
     "user": {
      "displayName": "Markus Neumann",
      "userId": "12563739067531413109"
     },
     "user_tz": 240
    },
    "id": "RaxbZwOXi3a7"
   },
   "outputs": [],
   "source": [
    "preds_bin = np.array(preds_full) >= 0.5"
   ]
  },
  {
   "cell_type": "code",
   "execution_count": null,
   "id": "XD350C5xdvp-",
   "metadata": {
    "executionInfo": {
     "elapsed": 2,
     "status": "ok",
     "timestamp": 1660259961643,
     "user": {
      "displayName": "Markus Neumann",
      "userId": "12563739067531413109"
     },
     "user_tz": 240
    },
    "id": "XD350C5xdvp-"
   },
   "outputs": [],
   "source": [
    "df_prds = pd.DataFrame(preds_bin)"
   ]
  },
  {
   "cell_type": "code",
   "execution_count": null,
   "id": "nhHoo5AkjpDV",
   "metadata": {
    "executionInfo": {
     "elapsed": 2,
     "status": "ok",
     "timestamp": 1660259961864,
     "user": {
      "displayName": "Markus Neumann",
      "userId": "12563739067531413109"
     },
     "user_tz": 240
    },
    "id": "nhHoo5AkjpDV"
   },
   "outputs": [],
   "source": [
    "df_prds.columns = df_train.columns[2:-1]"
   ]
  },
  {
   "cell_type": "code",
   "execution_count": null,
   "id": "pcDccPzheJxb",
   "metadata": {
    "executionInfo": {
     "elapsed": 215,
     "status": "ok",
     "timestamp": 1660259970292,
     "user": {
      "displayName": "Markus Neumann",
      "userId": "12563739067531413109"
     },
     "user_tz": 240
    },
    "id": "pcDccPzheJxb"
   },
   "outputs": [],
   "source": [
    "df_prds.to_csv(\"data/test_set_prds_multilabel_trf_v4.csv\")"
   ]
  },
  {
   "cell_type": "code",
   "execution_count": null,
   "id": "aZ9XlthTxcDF",
   "metadata": {
    "executionInfo": {
     "elapsed": 211,
     "status": "ok",
     "timestamp": 1660259976757,
     "user": {
      "displayName": "Markus Neumann",
      "userId": "12563739067531413109"
     },
     "user_tz": 240
    },
    "id": "aZ9XlthTxcDF"
   },
   "outputs": [],
   "source": [
    "# Preserve the test set so we can check later\n",
    "df_test.to_csv('data/test_set_multilabel_trf_v4.csv')"
   ]
  }
 ],
 "metadata": {
  "accelerator": "GPU",
  "colab": {
   "collapsed_sections": [],
   "name": "multilabel_trf_v1.ipynb",
   "provenance": []
  },
  "environment": {
   "kernel": "python3",
   "name": "common-cu110.m87",
   "type": "gcloud",
   "uri": "gcr.io/deeplearning-platform-release/base-cu110:m87"
  },
  "gpuClass": "standard",
  "kernelspec": {
   "display_name": "Python 3 (ipykernel)",
   "language": "python",
   "name": "python3"
  },
  "language_info": {
   "codemirror_mode": {
    "name": "ipython",
    "version": 3
   },
   "file_extension": ".py",
   "mimetype": "text/x-python",
   "name": "python",
   "nbconvert_exporter": "python",
   "pygments_lexer": "ipython3",
   "version": "3.10.13"
  },
  "vscode": {
   "interpreter": {
    "hash": "ad2bdc8ecc057115af97d19610ffacc2b4e99fae6737bb82f5d7fb13d2f2c186"
   }
  },
  "widgets": {
   "application/vnd.jupyter.widget-state+json": {
    "0409cc78514a424c8f3a03e53208f433": {
     "model_module": "@jupyter-widgets/controls",
     "model_module_version": "1.5.0",
     "model_name": "HTMLModel",
     "state": {
      "_dom_classes": [],
      "_model_module": "@jupyter-widgets/controls",
      "_model_module_version": "1.5.0",
      "_model_name": "HTMLModel",
      "_view_count": null,
      "_view_module": "@jupyter-widgets/controls",
      "_view_module_version": "1.5.0",
      "_view_name": "HTMLView",
      "description": "",
      "description_tooltip": null,
      "layout": "IPY_MODEL_61c8d3d033df4e24a9f2d49b923a5744",
      "placeholder": "​",
      "style": "IPY_MODEL_2a10e4dd74ac4aadb0f3856be8b877b4",
      "value": " 483/483 [00:00&lt;00:00, 13.4kB/s]"
     }
    },
    "085f727c35c1455fa97be44ebd8b6e31": {
     "model_module": "@jupyter-widgets/controls",
     "model_module_version": "1.5.0",
     "model_name": "HTMLModel",
     "state": {
      "_dom_classes": [],
      "_model_module": "@jupyter-widgets/controls",
      "_model_module_version": "1.5.0",
      "_model_name": "HTMLModel",
      "_view_count": null,
      "_view_module": "@jupyter-widgets/controls",
      "_view_module_version": "1.5.0",
      "_view_name": "HTMLView",
      "description": "",
      "description_tooltip": null,
      "layout": "IPY_MODEL_d1d0c502e38a411db57e0cc74a038c1c",
      "placeholder": "​",
      "style": "IPY_MODEL_9eb4d30ba9324070aaa61dec3fbc1462",
      "value": "Downloading config.json: 100%"
     }
    },
    "14a6305c3dbb43a2a71e60c5a21b1800": {
     "model_module": "@jupyter-widgets/base",
     "model_module_version": "1.2.0",
     "model_name": "LayoutModel",
     "state": {
      "_model_module": "@jupyter-widgets/base",
      "_model_module_version": "1.2.0",
      "_model_name": "LayoutModel",
      "_view_count": null,
      "_view_module": "@jupyter-widgets/base",
      "_view_module_version": "1.2.0",
      "_view_name": "LayoutView",
      "align_content": null,
      "align_items": null,
      "align_self": null,
      "border": null,
      "bottom": null,
      "display": null,
      "flex": null,
      "flex_flow": null,
      "grid_area": null,
      "grid_auto_columns": null,
      "grid_auto_flow": null,
      "grid_auto_rows": null,
      "grid_column": null,
      "grid_gap": null,
      "grid_row": null,
      "grid_template_areas": null,
      "grid_template_columns": null,
      "grid_template_rows": null,
      "height": null,
      "justify_content": null,
      "justify_items": null,
      "left": null,
      "margin": null,
      "max_height": null,
      "max_width": null,
      "min_height": null,
      "min_width": null,
      "object_fit": null,
      "object_position": null,
      "order": null,
      "overflow": null,
      "overflow_x": null,
      "overflow_y": null,
      "padding": null,
      "right": null,
      "top": null,
      "visibility": null,
      "width": null
     }
    },
    "152ee32904774a93a3aa07ab2a307e06": {
     "model_module": "@jupyter-widgets/controls",
     "model_module_version": "1.5.0",
     "model_name": "FloatProgressModel",
     "state": {
      "_dom_classes": [],
      "_model_module": "@jupyter-widgets/controls",
      "_model_module_version": "1.5.0",
      "_model_name": "FloatProgressModel",
      "_view_count": null,
      "_view_module": "@jupyter-widgets/controls",
      "_view_module_version": "1.5.0",
      "_view_name": "ProgressView",
      "bar_style": "success",
      "description": "",
      "description_tooltip": null,
      "layout": "IPY_MODEL_60fd668fbaea405aa431cf0d467549ea",
      "max": 267967963,
      "min": 0,
      "orientation": "horizontal",
      "style": "IPY_MODEL_c25a9dd5135d4ee381de80a37d3a04bc",
      "value": 267967963
     }
    },
    "1b46c3fd609449f2857a9d433ea85cf8": {
     "model_module": "@jupyter-widgets/controls",
     "model_module_version": "1.5.0",
     "model_name": "HTMLModel",
     "state": {
      "_dom_classes": [],
      "_model_module": "@jupyter-widgets/controls",
      "_model_module_version": "1.5.0",
      "_model_name": "HTMLModel",
      "_view_count": null,
      "_view_module": "@jupyter-widgets/controls",
      "_view_module_version": "1.5.0",
      "_view_name": "HTMLView",
      "description": "",
      "description_tooltip": null,
      "layout": "IPY_MODEL_e6cb6cf07e6f4e008796d03f6d75ffea",
      "placeholder": "​",
      "style": "IPY_MODEL_2c2c5a438239428dbe4a9c974aef4fec",
      "value": "Downloading pytorch_model.bin: 100%"
     }
    },
    "1c51c68749d2450a83a3f39baba694e1": {
     "model_module": "@jupyter-widgets/controls",
     "model_module_version": "1.5.0",
     "model_name": "ProgressStyleModel",
     "state": {
      "_model_module": "@jupyter-widgets/controls",
      "_model_module_version": "1.5.0",
      "_model_name": "ProgressStyleModel",
      "_view_count": null,
      "_view_module": "@jupyter-widgets/base",
      "_view_module_version": "1.2.0",
      "_view_name": "StyleView",
      "bar_color": null,
      "description_width": ""
     }
    },
    "21a59845ade04cf5bb01e1b3502e3eaf": {
     "model_module": "@jupyter-widgets/controls",
     "model_module_version": "1.5.0",
     "model_name": "DescriptionStyleModel",
     "state": {
      "_model_module": "@jupyter-widgets/controls",
      "_model_module_version": "1.5.0",
      "_model_name": "DescriptionStyleModel",
      "_view_count": null,
      "_view_module": "@jupyter-widgets/base",
      "_view_module_version": "1.2.0",
      "_view_name": "StyleView",
      "description_width": ""
     }
    },
    "2351bd06c83c49ae82c1d298906868c4": {
     "model_module": "@jupyter-widgets/base",
     "model_module_version": "1.2.0",
     "model_name": "LayoutModel",
     "state": {
      "_model_module": "@jupyter-widgets/base",
      "_model_module_version": "1.2.0",
      "_model_name": "LayoutModel",
      "_view_count": null,
      "_view_module": "@jupyter-widgets/base",
      "_view_module_version": "1.2.0",
      "_view_name": "LayoutView",
      "align_content": null,
      "align_items": null,
      "align_self": null,
      "border": null,
      "bottom": null,
      "display": null,
      "flex": null,
      "flex_flow": null,
      "grid_area": null,
      "grid_auto_columns": null,
      "grid_auto_flow": null,
      "grid_auto_rows": null,
      "grid_column": null,
      "grid_gap": null,
      "grid_row": null,
      "grid_template_areas": null,
      "grid_template_columns": null,
      "grid_template_rows": null,
      "height": null,
      "justify_content": null,
      "justify_items": null,
      "left": null,
      "margin": null,
      "max_height": null,
      "max_width": null,
      "min_height": null,
      "min_width": null,
      "object_fit": null,
      "object_position": null,
      "order": null,
      "overflow": null,
      "overflow_x": null,
      "overflow_y": null,
      "padding": null,
      "right": null,
      "top": null,
      "visibility": null,
      "width": null
     }
    },
    "23843036ae6a42149cd7c7143cb94e73": {
     "model_module": "@jupyter-widgets/base",
     "model_module_version": "1.2.0",
     "model_name": "LayoutModel",
     "state": {
      "_model_module": "@jupyter-widgets/base",
      "_model_module_version": "1.2.0",
      "_model_name": "LayoutModel",
      "_view_count": null,
      "_view_module": "@jupyter-widgets/base",
      "_view_module_version": "1.2.0",
      "_view_name": "LayoutView",
      "align_content": null,
      "align_items": null,
      "align_self": null,
      "border": null,
      "bottom": null,
      "display": null,
      "flex": null,
      "flex_flow": null,
      "grid_area": null,
      "grid_auto_columns": null,
      "grid_auto_flow": null,
      "grid_auto_rows": null,
      "grid_column": null,
      "grid_gap": null,
      "grid_row": null,
      "grid_template_areas": null,
      "grid_template_columns": null,
      "grid_template_rows": null,
      "height": null,
      "justify_content": null,
      "justify_items": null,
      "left": null,
      "margin": null,
      "max_height": null,
      "max_width": null,
      "min_height": null,
      "min_width": null,
      "object_fit": null,
      "object_position": null,
      "order": null,
      "overflow": null,
      "overflow_x": null,
      "overflow_y": null,
      "padding": null,
      "right": null,
      "top": null,
      "visibility": null,
      "width": null
     }
    },
    "2a10e4dd74ac4aadb0f3856be8b877b4": {
     "model_module": "@jupyter-widgets/controls",
     "model_module_version": "1.5.0",
     "model_name": "DescriptionStyleModel",
     "state": {
      "_model_module": "@jupyter-widgets/controls",
      "_model_module_version": "1.5.0",
      "_model_name": "DescriptionStyleModel",
      "_view_count": null,
      "_view_module": "@jupyter-widgets/base",
      "_view_module_version": "1.2.0",
      "_view_name": "StyleView",
      "description_width": ""
     }
    },
    "2c2c5a438239428dbe4a9c974aef4fec": {
     "model_module": "@jupyter-widgets/controls",
     "model_module_version": "1.5.0",
     "model_name": "DescriptionStyleModel",
     "state": {
      "_model_module": "@jupyter-widgets/controls",
      "_model_module_version": "1.5.0",
      "_model_name": "DescriptionStyleModel",
      "_view_count": null,
      "_view_module": "@jupyter-widgets/base",
      "_view_module_version": "1.2.0",
      "_view_name": "StyleView",
      "description_width": ""
     }
    },
    "4439e45074dd42ed8a8d297edc307e0b": {
     "model_module": "@jupyter-widgets/controls",
     "model_module_version": "1.5.0",
     "model_name": "HBoxModel",
     "state": {
      "_dom_classes": [],
      "_model_module": "@jupyter-widgets/controls",
      "_model_module_version": "1.5.0",
      "_model_name": "HBoxModel",
      "_view_count": null,
      "_view_module": "@jupyter-widgets/controls",
      "_view_module_version": "1.5.0",
      "_view_name": "HBoxView",
      "box_style": "",
      "children": [
       "IPY_MODEL_1b46c3fd609449f2857a9d433ea85cf8",
       "IPY_MODEL_152ee32904774a93a3aa07ab2a307e06",
       "IPY_MODEL_be06ea6727284b9ab75dccafc092e039"
      ],
      "layout": "IPY_MODEL_8b9147126b2a4b6b86af4cca13172e98"
     }
    },
    "474ed7825ace4d17b3e7451c804da34a": {
     "model_module": "@jupyter-widgets/base",
     "model_module_version": "1.2.0",
     "model_name": "LayoutModel",
     "state": {
      "_model_module": "@jupyter-widgets/base",
      "_model_module_version": "1.2.0",
      "_model_name": "LayoutModel",
      "_view_count": null,
      "_view_module": "@jupyter-widgets/base",
      "_view_module_version": "1.2.0",
      "_view_name": "LayoutView",
      "align_content": null,
      "align_items": null,
      "align_self": null,
      "border": null,
      "bottom": null,
      "display": null,
      "flex": null,
      "flex_flow": null,
      "grid_area": null,
      "grid_auto_columns": null,
      "grid_auto_flow": null,
      "grid_auto_rows": null,
      "grid_column": null,
      "grid_gap": null,
      "grid_row": null,
      "grid_template_areas": null,
      "grid_template_columns": null,
      "grid_template_rows": null,
      "height": null,
      "justify_content": null,
      "justify_items": null,
      "left": null,
      "margin": null,
      "max_height": null,
      "max_width": null,
      "min_height": null,
      "min_width": null,
      "object_fit": null,
      "object_position": null,
      "order": null,
      "overflow": null,
      "overflow_x": null,
      "overflow_y": null,
      "padding": null,
      "right": null,
      "top": null,
      "visibility": null,
      "width": null
     }
    },
    "4a15c777eec546fda3d9beb50889c2f9": {
     "model_module": "@jupyter-widgets/base",
     "model_module_version": "1.2.0",
     "model_name": "LayoutModel",
     "state": {
      "_model_module": "@jupyter-widgets/base",
      "_model_module_version": "1.2.0",
      "_model_name": "LayoutModel",
      "_view_count": null,
      "_view_module": "@jupyter-widgets/base",
      "_view_module_version": "1.2.0",
      "_view_name": "LayoutView",
      "align_content": null,
      "align_items": null,
      "align_self": null,
      "border": null,
      "bottom": null,
      "display": null,
      "flex": null,
      "flex_flow": null,
      "grid_area": null,
      "grid_auto_columns": null,
      "grid_auto_flow": null,
      "grid_auto_rows": null,
      "grid_column": null,
      "grid_gap": null,
      "grid_row": null,
      "grid_template_areas": null,
      "grid_template_columns": null,
      "grid_template_rows": null,
      "height": null,
      "justify_content": null,
      "justify_items": null,
      "left": null,
      "margin": null,
      "max_height": null,
      "max_width": null,
      "min_height": null,
      "min_width": null,
      "object_fit": null,
      "object_position": null,
      "order": null,
      "overflow": null,
      "overflow_x": null,
      "overflow_y": null,
      "padding": null,
      "right": null,
      "top": null,
      "visibility": null,
      "width": null
     }
    },
    "4d544a985e974d28950a1794b8bb94dd": {
     "model_module": "@jupyter-widgets/base",
     "model_module_version": "1.2.0",
     "model_name": "LayoutModel",
     "state": {
      "_model_module": "@jupyter-widgets/base",
      "_model_module_version": "1.2.0",
      "_model_name": "LayoutModel",
      "_view_count": null,
      "_view_module": "@jupyter-widgets/base",
      "_view_module_version": "1.2.0",
      "_view_name": "LayoutView",
      "align_content": null,
      "align_items": null,
      "align_self": null,
      "border": null,
      "bottom": null,
      "display": null,
      "flex": null,
      "flex_flow": null,
      "grid_area": null,
      "grid_auto_columns": null,
      "grid_auto_flow": null,
      "grid_auto_rows": null,
      "grid_column": null,
      "grid_gap": null,
      "grid_row": null,
      "grid_template_areas": null,
      "grid_template_columns": null,
      "grid_template_rows": null,
      "height": null,
      "justify_content": null,
      "justify_items": null,
      "left": null,
      "margin": null,
      "max_height": null,
      "max_width": null,
      "min_height": null,
      "min_width": null,
      "object_fit": null,
      "object_position": null,
      "order": null,
      "overflow": null,
      "overflow_x": null,
      "overflow_y": null,
      "padding": null,
      "right": null,
      "top": null,
      "visibility": null,
      "width": null
     }
    },
    "4fa43e5b5f0745a7a5358056a2186ece": {
     "model_module": "@jupyter-widgets/base",
     "model_module_version": "1.2.0",
     "model_name": "LayoutModel",
     "state": {
      "_model_module": "@jupyter-widgets/base",
      "_model_module_version": "1.2.0",
      "_model_name": "LayoutModel",
      "_view_count": null,
      "_view_module": "@jupyter-widgets/base",
      "_view_module_version": "1.2.0",
      "_view_name": "LayoutView",
      "align_content": null,
      "align_items": null,
      "align_self": null,
      "border": null,
      "bottom": null,
      "display": null,
      "flex": null,
      "flex_flow": null,
      "grid_area": null,
      "grid_auto_columns": null,
      "grid_auto_flow": null,
      "grid_auto_rows": null,
      "grid_column": null,
      "grid_gap": null,
      "grid_row": null,
      "grid_template_areas": null,
      "grid_template_columns": null,
      "grid_template_rows": null,
      "height": null,
      "justify_content": null,
      "justify_items": null,
      "left": null,
      "margin": null,
      "max_height": null,
      "max_width": null,
      "min_height": null,
      "min_width": null,
      "object_fit": null,
      "object_position": null,
      "order": null,
      "overflow": null,
      "overflow_x": null,
      "overflow_y": null,
      "padding": null,
      "right": null,
      "top": null,
      "visibility": null,
      "width": null
     }
    },
    "50493c70100e44aaa3d50e0f2b71c946": {
     "model_module": "@jupyter-widgets/base",
     "model_module_version": "1.2.0",
     "model_name": "LayoutModel",
     "state": {
      "_model_module": "@jupyter-widgets/base",
      "_model_module_version": "1.2.0",
      "_model_name": "LayoutModel",
      "_view_count": null,
      "_view_module": "@jupyter-widgets/base",
      "_view_module_version": "1.2.0",
      "_view_name": "LayoutView",
      "align_content": null,
      "align_items": null,
      "align_self": null,
      "border": null,
      "bottom": null,
      "display": null,
      "flex": null,
      "flex_flow": null,
      "grid_area": null,
      "grid_auto_columns": null,
      "grid_auto_flow": null,
      "grid_auto_rows": null,
      "grid_column": null,
      "grid_gap": null,
      "grid_row": null,
      "grid_template_areas": null,
      "grid_template_columns": null,
      "grid_template_rows": null,
      "height": null,
      "justify_content": null,
      "justify_items": null,
      "left": null,
      "margin": null,
      "max_height": null,
      "max_width": null,
      "min_height": null,
      "min_width": null,
      "object_fit": null,
      "object_position": null,
      "order": null,
      "overflow": null,
      "overflow_x": null,
      "overflow_y": null,
      "padding": null,
      "right": null,
      "top": null,
      "visibility": null,
      "width": null
     }
    },
    "5bece59422164ccfb0d0c34fc9674e25": {
     "model_module": "@jupyter-widgets/controls",
     "model_module_version": "1.5.0",
     "model_name": "ProgressStyleModel",
     "state": {
      "_model_module": "@jupyter-widgets/controls",
      "_model_module_version": "1.5.0",
      "_model_name": "ProgressStyleModel",
      "_view_count": null,
      "_view_module": "@jupyter-widgets/base",
      "_view_module_version": "1.2.0",
      "_view_name": "StyleView",
      "bar_color": null,
      "description_width": ""
     }
    },
    "60fd668fbaea405aa431cf0d467549ea": {
     "model_module": "@jupyter-widgets/base",
     "model_module_version": "1.2.0",
     "model_name": "LayoutModel",
     "state": {
      "_model_module": "@jupyter-widgets/base",
      "_model_module_version": "1.2.0",
      "_model_name": "LayoutModel",
      "_view_count": null,
      "_view_module": "@jupyter-widgets/base",
      "_view_module_version": "1.2.0",
      "_view_name": "LayoutView",
      "align_content": null,
      "align_items": null,
      "align_self": null,
      "border": null,
      "bottom": null,
      "display": null,
      "flex": null,
      "flex_flow": null,
      "grid_area": null,
      "grid_auto_columns": null,
      "grid_auto_flow": null,
      "grid_auto_rows": null,
      "grid_column": null,
      "grid_gap": null,
      "grid_row": null,
      "grid_template_areas": null,
      "grid_template_columns": null,
      "grid_template_rows": null,
      "height": null,
      "justify_content": null,
      "justify_items": null,
      "left": null,
      "margin": null,
      "max_height": null,
      "max_width": null,
      "min_height": null,
      "min_width": null,
      "object_fit": null,
      "object_position": null,
      "order": null,
      "overflow": null,
      "overflow_x": null,
      "overflow_y": null,
      "padding": null,
      "right": null,
      "top": null,
      "visibility": null,
      "width": null
     }
    },
    "61c8d3d033df4e24a9f2d49b923a5744": {
     "model_module": "@jupyter-widgets/base",
     "model_module_version": "1.2.0",
     "model_name": "LayoutModel",
     "state": {
      "_model_module": "@jupyter-widgets/base",
      "_model_module_version": "1.2.0",
      "_model_name": "LayoutModel",
      "_view_count": null,
      "_view_module": "@jupyter-widgets/base",
      "_view_module_version": "1.2.0",
      "_view_name": "LayoutView",
      "align_content": null,
      "align_items": null,
      "align_self": null,
      "border": null,
      "bottom": null,
      "display": null,
      "flex": null,
      "flex_flow": null,
      "grid_area": null,
      "grid_auto_columns": null,
      "grid_auto_flow": null,
      "grid_auto_rows": null,
      "grid_column": null,
      "grid_gap": null,
      "grid_row": null,
      "grid_template_areas": null,
      "grid_template_columns": null,
      "grid_template_rows": null,
      "height": null,
      "justify_content": null,
      "justify_items": null,
      "left": null,
      "margin": null,
      "max_height": null,
      "max_width": null,
      "min_height": null,
      "min_width": null,
      "object_fit": null,
      "object_position": null,
      "order": null,
      "overflow": null,
      "overflow_x": null,
      "overflow_y": null,
      "padding": null,
      "right": null,
      "top": null,
      "visibility": null,
      "width": null
     }
    },
    "62b2cdf4226f4defb6c0c2c732bcfebf": {
     "model_module": "@jupyter-widgets/controls",
     "model_module_version": "1.5.0",
     "model_name": "FloatProgressModel",
     "state": {
      "_dom_classes": [],
      "_model_module": "@jupyter-widgets/controls",
      "_model_module_version": "1.5.0",
      "_model_name": "FloatProgressModel",
      "_view_count": null,
      "_view_module": "@jupyter-widgets/controls",
      "_view_module_version": "1.5.0",
      "_view_name": "ProgressView",
      "bar_style": "success",
      "description": "",
      "description_tooltip": null,
      "layout": "IPY_MODEL_474ed7825ace4d17b3e7451c804da34a",
      "max": 466062,
      "min": 0,
      "orientation": "horizontal",
      "style": "IPY_MODEL_ae07b043f5c24e538ce823118b49a37c",
      "value": 466062
     }
    },
    "64f2005435044eda893b12d0922f872b": {
     "model_module": "@jupyter-widgets/controls",
     "model_module_version": "1.5.0",
     "model_name": "HTMLModel",
     "state": {
      "_dom_classes": [],
      "_model_module": "@jupyter-widgets/controls",
      "_model_module_version": "1.5.0",
      "_model_name": "HTMLModel",
      "_view_count": null,
      "_view_module": "@jupyter-widgets/controls",
      "_view_module_version": "1.5.0",
      "_view_name": "HTMLView",
      "description": "",
      "description_tooltip": null,
      "layout": "IPY_MODEL_666a97f7972446e6873d65ffb068d9a2",
      "placeholder": "​",
      "style": "IPY_MODEL_b1eec077bba748fb9ea758f62b357771",
      "value": "Downloading vocab.txt: 100%"
     }
    },
    "666a97f7972446e6873d65ffb068d9a2": {
     "model_module": "@jupyter-widgets/base",
     "model_module_version": "1.2.0",
     "model_name": "LayoutModel",
     "state": {
      "_model_module": "@jupyter-widgets/base",
      "_model_module_version": "1.2.0",
      "_model_name": "LayoutModel",
      "_view_count": null,
      "_view_module": "@jupyter-widgets/base",
      "_view_module_version": "1.2.0",
      "_view_name": "LayoutView",
      "align_content": null,
      "align_items": null,
      "align_self": null,
      "border": null,
      "bottom": null,
      "display": null,
      "flex": null,
      "flex_flow": null,
      "grid_area": null,
      "grid_auto_columns": null,
      "grid_auto_flow": null,
      "grid_auto_rows": null,
      "grid_column": null,
      "grid_gap": null,
      "grid_row": null,
      "grid_template_areas": null,
      "grid_template_columns": null,
      "grid_template_rows": null,
      "height": null,
      "justify_content": null,
      "justify_items": null,
      "left": null,
      "margin": null,
      "max_height": null,
      "max_width": null,
      "min_height": null,
      "min_width": null,
      "object_fit": null,
      "object_position": null,
      "order": null,
      "overflow": null,
      "overflow_x": null,
      "overflow_y": null,
      "padding": null,
      "right": null,
      "top": null,
      "visibility": null,
      "width": null
     }
    },
    "7397ad10dda64fcabb835bc934b4af92": {
     "model_module": "@jupyter-widgets/controls",
     "model_module_version": "1.5.0",
     "model_name": "DescriptionStyleModel",
     "state": {
      "_model_module": "@jupyter-widgets/controls",
      "_model_module_version": "1.5.0",
      "_model_name": "DescriptionStyleModel",
      "_view_count": null,
      "_view_module": "@jupyter-widgets/base",
      "_view_module_version": "1.2.0",
      "_view_name": "StyleView",
      "description_width": ""
     }
    },
    "76c0f46c54b9473d816d035756c0c74e": {
     "model_module": "@jupyter-widgets/controls",
     "model_module_version": "1.5.0",
     "model_name": "ProgressStyleModel",
     "state": {
      "_model_module": "@jupyter-widgets/controls",
      "_model_module_version": "1.5.0",
      "_model_name": "ProgressStyleModel",
      "_view_count": null,
      "_view_module": "@jupyter-widgets/base",
      "_view_module_version": "1.2.0",
      "_view_name": "StyleView",
      "bar_color": null,
      "description_width": ""
     }
    },
    "7fd9a1c6fe9e43d5a806fdf337d6a8ce": {
     "model_module": "@jupyter-widgets/controls",
     "model_module_version": "1.5.0",
     "model_name": "HBoxModel",
     "state": {
      "_dom_classes": [],
      "_model_module": "@jupyter-widgets/controls",
      "_model_module_version": "1.5.0",
      "_model_name": "HBoxModel",
      "_view_count": null,
      "_view_module": "@jupyter-widgets/controls",
      "_view_module_version": "1.5.0",
      "_view_name": "HBoxView",
      "box_style": "",
      "children": [
       "IPY_MODEL_b50ce707d04147f0b79c5b680fdff508",
       "IPY_MODEL_62b2cdf4226f4defb6c0c2c732bcfebf",
       "IPY_MODEL_d79dca6706f14f7d80ae3d66f694b12e"
      ],
      "layout": "IPY_MODEL_e052d773374c43b6b9e6b7e5ff98311a"
     }
    },
    "8b9147126b2a4b6b86af4cca13172e98": {
     "model_module": "@jupyter-widgets/base",
     "model_module_version": "1.2.0",
     "model_name": "LayoutModel",
     "state": {
      "_model_module": "@jupyter-widgets/base",
      "_model_module_version": "1.2.0",
      "_model_name": "LayoutModel",
      "_view_count": null,
      "_view_module": "@jupyter-widgets/base",
      "_view_module_version": "1.2.0",
      "_view_name": "LayoutView",
      "align_content": null,
      "align_items": null,
      "align_self": null,
      "border": null,
      "bottom": null,
      "display": null,
      "flex": null,
      "flex_flow": null,
      "grid_area": null,
      "grid_auto_columns": null,
      "grid_auto_flow": null,
      "grid_auto_rows": null,
      "grid_column": null,
      "grid_gap": null,
      "grid_row": null,
      "grid_template_areas": null,
      "grid_template_columns": null,
      "grid_template_rows": null,
      "height": null,
      "justify_content": null,
      "justify_items": null,
      "left": null,
      "margin": null,
      "max_height": null,
      "max_width": null,
      "min_height": null,
      "min_width": null,
      "object_fit": null,
      "object_position": null,
      "order": null,
      "overflow": null,
      "overflow_x": null,
      "overflow_y": null,
      "padding": null,
      "right": null,
      "top": null,
      "visibility": null,
      "width": null
     }
    },
    "902c32050a7c435caac62511fe51e56f": {
     "model_module": "@jupyter-widgets/controls",
     "model_module_version": "1.5.0",
     "model_name": "DescriptionStyleModel",
     "state": {
      "_model_module": "@jupyter-widgets/controls",
      "_model_module_version": "1.5.0",
      "_model_name": "DescriptionStyleModel",
      "_view_count": null,
      "_view_module": "@jupyter-widgets/base",
      "_view_module_version": "1.2.0",
      "_view_name": "StyleView",
      "description_width": ""
     }
    },
    "92c7482cc16140358d9bcba88a580ace": {
     "model_module": "@jupyter-widgets/controls",
     "model_module_version": "1.5.0",
     "model_name": "DescriptionStyleModel",
     "state": {
      "_model_module": "@jupyter-widgets/controls",
      "_model_module_version": "1.5.0",
      "_model_name": "DescriptionStyleModel",
      "_view_count": null,
      "_view_module": "@jupyter-widgets/base",
      "_view_module_version": "1.2.0",
      "_view_name": "StyleView",
      "description_width": ""
     }
    },
    "9492b64a3c004ed88bc09fbca1ec3122": {
     "model_module": "@jupyter-widgets/base",
     "model_module_version": "1.2.0",
     "model_name": "LayoutModel",
     "state": {
      "_model_module": "@jupyter-widgets/base",
      "_model_module_version": "1.2.0",
      "_model_name": "LayoutModel",
      "_view_count": null,
      "_view_module": "@jupyter-widgets/base",
      "_view_module_version": "1.2.0",
      "_view_name": "LayoutView",
      "align_content": null,
      "align_items": null,
      "align_self": null,
      "border": null,
      "bottom": null,
      "display": null,
      "flex": null,
      "flex_flow": null,
      "grid_area": null,
      "grid_auto_columns": null,
      "grid_auto_flow": null,
      "grid_auto_rows": null,
      "grid_column": null,
      "grid_gap": null,
      "grid_row": null,
      "grid_template_areas": null,
      "grid_template_columns": null,
      "grid_template_rows": null,
      "height": null,
      "justify_content": null,
      "justify_items": null,
      "left": null,
      "margin": null,
      "max_height": null,
      "max_width": null,
      "min_height": null,
      "min_width": null,
      "object_fit": null,
      "object_position": null,
      "order": null,
      "overflow": null,
      "overflow_x": null,
      "overflow_y": null,
      "padding": null,
      "right": null,
      "top": null,
      "visibility": null,
      "width": null
     }
    },
    "97784c7c218f4e6b87bf7e5cba651d30": {
     "model_module": "@jupyter-widgets/controls",
     "model_module_version": "1.5.0",
     "model_name": "HTMLModel",
     "state": {
      "_dom_classes": [],
      "_model_module": "@jupyter-widgets/controls",
      "_model_module_version": "1.5.0",
      "_model_name": "HTMLModel",
      "_view_count": null,
      "_view_module": "@jupyter-widgets/controls",
      "_view_module_version": "1.5.0",
      "_view_name": "HTMLView",
      "description": "",
      "description_tooltip": null,
      "layout": "IPY_MODEL_2351bd06c83c49ae82c1d298906868c4",
      "placeholder": "​",
      "style": "IPY_MODEL_eb91c3a804d744609b575ecfd62ad637",
      "value": " 226k/226k [00:00&lt;00:00, 559kB/s]"
     }
    },
    "98e3980c3dbd47eeae10e633ec4a9cfd": {
     "model_module": "@jupyter-widgets/base",
     "model_module_version": "1.2.0",
     "model_name": "LayoutModel",
     "state": {
      "_model_module": "@jupyter-widgets/base",
      "_model_module_version": "1.2.0",
      "_model_name": "LayoutModel",
      "_view_count": null,
      "_view_module": "@jupyter-widgets/base",
      "_view_module_version": "1.2.0",
      "_view_name": "LayoutView",
      "align_content": null,
      "align_items": null,
      "align_self": null,
      "border": null,
      "bottom": null,
      "display": null,
      "flex": null,
      "flex_flow": null,
      "grid_area": null,
      "grid_auto_columns": null,
      "grid_auto_flow": null,
      "grid_auto_rows": null,
      "grid_column": null,
      "grid_gap": null,
      "grid_row": null,
      "grid_template_areas": null,
      "grid_template_columns": null,
      "grid_template_rows": null,
      "height": null,
      "justify_content": null,
      "justify_items": null,
      "left": null,
      "margin": null,
      "max_height": null,
      "max_width": null,
      "min_height": null,
      "min_width": null,
      "object_fit": null,
      "object_position": null,
      "order": null,
      "overflow": null,
      "overflow_x": null,
      "overflow_y": null,
      "padding": null,
      "right": null,
      "top": null,
      "visibility": null,
      "width": null
     }
    },
    "9eb4d30ba9324070aaa61dec3fbc1462": {
     "model_module": "@jupyter-widgets/controls",
     "model_module_version": "1.5.0",
     "model_name": "DescriptionStyleModel",
     "state": {
      "_model_module": "@jupyter-widgets/controls",
      "_model_module_version": "1.5.0",
      "_model_name": "DescriptionStyleModel",
      "_view_count": null,
      "_view_module": "@jupyter-widgets/base",
      "_view_module_version": "1.2.0",
      "_view_name": "StyleView",
      "description_width": ""
     }
    },
    "a5bbc7e02d55423fb0d7b41bd4d0bda2": {
     "model_module": "@jupyter-widgets/controls",
     "model_module_version": "1.5.0",
     "model_name": "FloatProgressModel",
     "state": {
      "_dom_classes": [],
      "_model_module": "@jupyter-widgets/controls",
      "_model_module_version": "1.5.0",
      "_model_name": "FloatProgressModel",
      "_view_count": null,
      "_view_module": "@jupyter-widgets/controls",
      "_view_module_version": "1.5.0",
      "_view_name": "ProgressView",
      "bar_style": "success",
      "description": "",
      "description_tooltip": null,
      "layout": "IPY_MODEL_23843036ae6a42149cd7c7143cb94e73",
      "max": 28,
      "min": 0,
      "orientation": "horizontal",
      "style": "IPY_MODEL_1c51c68749d2450a83a3f39baba694e1",
      "value": 28
     }
    },
    "a7d0a3d917bb45f79542890c35aab9cc": {
     "model_module": "@jupyter-widgets/controls",
     "model_module_version": "1.5.0",
     "model_name": "HTMLModel",
     "state": {
      "_dom_classes": [],
      "_model_module": "@jupyter-widgets/controls",
      "_model_module_version": "1.5.0",
      "_model_name": "HTMLModel",
      "_view_count": null,
      "_view_module": "@jupyter-widgets/controls",
      "_view_module_version": "1.5.0",
      "_view_name": "HTMLView",
      "description": "",
      "description_tooltip": null,
      "layout": "IPY_MODEL_4a15c777eec546fda3d9beb50889c2f9",
      "placeholder": "​",
      "style": "IPY_MODEL_21a59845ade04cf5bb01e1b3502e3eaf",
      "value": "Downloading tokenizer_config.json: 100%"
     }
    },
    "ae07b043f5c24e538ce823118b49a37c": {
     "model_module": "@jupyter-widgets/controls",
     "model_module_version": "1.5.0",
     "model_name": "ProgressStyleModel",
     "state": {
      "_model_module": "@jupyter-widgets/controls",
      "_model_module_version": "1.5.0",
      "_model_name": "ProgressStyleModel",
      "_view_count": null,
      "_view_module": "@jupyter-widgets/base",
      "_view_module_version": "1.2.0",
      "_view_name": "StyleView",
      "bar_color": null,
      "description_width": ""
     }
    },
    "b1eec077bba748fb9ea758f62b357771": {
     "model_module": "@jupyter-widgets/controls",
     "model_module_version": "1.5.0",
     "model_name": "DescriptionStyleModel",
     "state": {
      "_model_module": "@jupyter-widgets/controls",
      "_model_module_version": "1.5.0",
      "_model_name": "DescriptionStyleModel",
      "_view_count": null,
      "_view_module": "@jupyter-widgets/base",
      "_view_module_version": "1.2.0",
      "_view_name": "StyleView",
      "description_width": ""
     }
    },
    "b50ce707d04147f0b79c5b680fdff508": {
     "model_module": "@jupyter-widgets/controls",
     "model_module_version": "1.5.0",
     "model_name": "HTMLModel",
     "state": {
      "_dom_classes": [],
      "_model_module": "@jupyter-widgets/controls",
      "_model_module_version": "1.5.0",
      "_model_name": "HTMLModel",
      "_view_count": null,
      "_view_module": "@jupyter-widgets/controls",
      "_view_module_version": "1.5.0",
      "_view_name": "HTMLView",
      "description": "",
      "description_tooltip": null,
      "layout": "IPY_MODEL_dbee4b9f485b4b5ab93071347261b8c5",
      "placeholder": "​",
      "style": "IPY_MODEL_bbe30f0889ff4bba94b2bd7d40f9f1c1",
      "value": "Downloading tokenizer.json: 100%"
     }
    },
    "bbe30f0889ff4bba94b2bd7d40f9f1c1": {
     "model_module": "@jupyter-widgets/controls",
     "model_module_version": "1.5.0",
     "model_name": "DescriptionStyleModel",
     "state": {
      "_model_module": "@jupyter-widgets/controls",
      "_model_module_version": "1.5.0",
      "_model_name": "DescriptionStyleModel",
      "_view_count": null,
      "_view_module": "@jupyter-widgets/base",
      "_view_module_version": "1.2.0",
      "_view_name": "StyleView",
      "description_width": ""
     }
    },
    "bdec6cc466d241b690d851368066fbd9": {
     "model_module": "@jupyter-widgets/base",
     "model_module_version": "1.2.0",
     "model_name": "LayoutModel",
     "state": {
      "_model_module": "@jupyter-widgets/base",
      "_model_module_version": "1.2.0",
      "_model_name": "LayoutModel",
      "_view_count": null,
      "_view_module": "@jupyter-widgets/base",
      "_view_module_version": "1.2.0",
      "_view_name": "LayoutView",
      "align_content": null,
      "align_items": null,
      "align_self": null,
      "border": null,
      "bottom": null,
      "display": null,
      "flex": null,
      "flex_flow": null,
      "grid_area": null,
      "grid_auto_columns": null,
      "grid_auto_flow": null,
      "grid_auto_rows": null,
      "grid_column": null,
      "grid_gap": null,
      "grid_row": null,
      "grid_template_areas": null,
      "grid_template_columns": null,
      "grid_template_rows": null,
      "height": null,
      "justify_content": null,
      "justify_items": null,
      "left": null,
      "margin": null,
      "max_height": null,
      "max_width": null,
      "min_height": null,
      "min_width": null,
      "object_fit": null,
      "object_position": null,
      "order": null,
      "overflow": null,
      "overflow_x": null,
      "overflow_y": null,
      "padding": null,
      "right": null,
      "top": null,
      "visibility": null,
      "width": null
     }
    },
    "be06ea6727284b9ab75dccafc092e039": {
     "model_module": "@jupyter-widgets/controls",
     "model_module_version": "1.5.0",
     "model_name": "HTMLModel",
     "state": {
      "_dom_classes": [],
      "_model_module": "@jupyter-widgets/controls",
      "_model_module_version": "1.5.0",
      "_model_name": "HTMLModel",
      "_view_count": null,
      "_view_module": "@jupyter-widgets/controls",
      "_view_module_version": "1.5.0",
      "_view_name": "HTMLView",
      "description": "",
      "description_tooltip": null,
      "layout": "IPY_MODEL_98e3980c3dbd47eeae10e633ec4a9cfd",
      "placeholder": "​",
      "style": "IPY_MODEL_902c32050a7c435caac62511fe51e56f",
      "value": " 256M/256M [00:04&lt;00:00, 54.6MB/s]"
     }
    },
    "c25a9dd5135d4ee381de80a37d3a04bc": {
     "model_module": "@jupyter-widgets/controls",
     "model_module_version": "1.5.0",
     "model_name": "ProgressStyleModel",
     "state": {
      "_model_module": "@jupyter-widgets/controls",
      "_model_module_version": "1.5.0",
      "_model_name": "ProgressStyleModel",
      "_view_count": null,
      "_view_module": "@jupyter-widgets/base",
      "_view_module_version": "1.2.0",
      "_view_name": "StyleView",
      "bar_color": null,
      "description_width": ""
     }
    },
    "cc8e7b4ca9f042d09e05f4693fb94d68": {
     "model_module": "@jupyter-widgets/base",
     "model_module_version": "1.2.0",
     "model_name": "LayoutModel",
     "state": {
      "_model_module": "@jupyter-widgets/base",
      "_model_module_version": "1.2.0",
      "_model_name": "LayoutModel",
      "_view_count": null,
      "_view_module": "@jupyter-widgets/base",
      "_view_module_version": "1.2.0",
      "_view_name": "LayoutView",
      "align_content": null,
      "align_items": null,
      "align_self": null,
      "border": null,
      "bottom": null,
      "display": null,
      "flex": null,
      "flex_flow": null,
      "grid_area": null,
      "grid_auto_columns": null,
      "grid_auto_flow": null,
      "grid_auto_rows": null,
      "grid_column": null,
      "grid_gap": null,
      "grid_row": null,
      "grid_template_areas": null,
      "grid_template_columns": null,
      "grid_template_rows": null,
      "height": null,
      "justify_content": null,
      "justify_items": null,
      "left": null,
      "margin": null,
      "max_height": null,
      "max_width": null,
      "min_height": null,
      "min_width": null,
      "object_fit": null,
      "object_position": null,
      "order": null,
      "overflow": null,
      "overflow_x": null,
      "overflow_y": null,
      "padding": null,
      "right": null,
      "top": null,
      "visibility": null,
      "width": null
     }
    },
    "d1d0c502e38a411db57e0cc74a038c1c": {
     "model_module": "@jupyter-widgets/base",
     "model_module_version": "1.2.0",
     "model_name": "LayoutModel",
     "state": {
      "_model_module": "@jupyter-widgets/base",
      "_model_module_version": "1.2.0",
      "_model_name": "LayoutModel",
      "_view_count": null,
      "_view_module": "@jupyter-widgets/base",
      "_view_module_version": "1.2.0",
      "_view_name": "LayoutView",
      "align_content": null,
      "align_items": null,
      "align_self": null,
      "border": null,
      "bottom": null,
      "display": null,
      "flex": null,
      "flex_flow": null,
      "grid_area": null,
      "grid_auto_columns": null,
      "grid_auto_flow": null,
      "grid_auto_rows": null,
      "grid_column": null,
      "grid_gap": null,
      "grid_row": null,
      "grid_template_areas": null,
      "grid_template_columns": null,
      "grid_template_rows": null,
      "height": null,
      "justify_content": null,
      "justify_items": null,
      "left": null,
      "margin": null,
      "max_height": null,
      "max_width": null,
      "min_height": null,
      "min_width": null,
      "object_fit": null,
      "object_position": null,
      "order": null,
      "overflow": null,
      "overflow_x": null,
      "overflow_y": null,
      "padding": null,
      "right": null,
      "top": null,
      "visibility": null,
      "width": null
     }
    },
    "d79dca6706f14f7d80ae3d66f694b12e": {
     "model_module": "@jupyter-widgets/controls",
     "model_module_version": "1.5.0",
     "model_name": "HTMLModel",
     "state": {
      "_dom_classes": [],
      "_model_module": "@jupyter-widgets/controls",
      "_model_module_version": "1.5.0",
      "_model_name": "HTMLModel",
      "_view_count": null,
      "_view_module": "@jupyter-widgets/controls",
      "_view_module_version": "1.5.0",
      "_view_name": "HTMLView",
      "description": "",
      "description_tooltip": null,
      "layout": "IPY_MODEL_50493c70100e44aaa3d50e0f2b71c946",
      "placeholder": "​",
      "style": "IPY_MODEL_92c7482cc16140358d9bcba88a580ace",
      "value": " 455k/455k [00:00&lt;00:00, 580kB/s]"
     }
    },
    "dbee4b9f485b4b5ab93071347261b8c5": {
     "model_module": "@jupyter-widgets/base",
     "model_module_version": "1.2.0",
     "model_name": "LayoutModel",
     "state": {
      "_model_module": "@jupyter-widgets/base",
      "_model_module_version": "1.2.0",
      "_model_name": "LayoutModel",
      "_view_count": null,
      "_view_module": "@jupyter-widgets/base",
      "_view_module_version": "1.2.0",
      "_view_name": "LayoutView",
      "align_content": null,
      "align_items": null,
      "align_self": null,
      "border": null,
      "bottom": null,
      "display": null,
      "flex": null,
      "flex_flow": null,
      "grid_area": null,
      "grid_auto_columns": null,
      "grid_auto_flow": null,
      "grid_auto_rows": null,
      "grid_column": null,
      "grid_gap": null,
      "grid_row": null,
      "grid_template_areas": null,
      "grid_template_columns": null,
      "grid_template_rows": null,
      "height": null,
      "justify_content": null,
      "justify_items": null,
      "left": null,
      "margin": null,
      "max_height": null,
      "max_width": null,
      "min_height": null,
      "min_width": null,
      "object_fit": null,
      "object_position": null,
      "order": null,
      "overflow": null,
      "overflow_x": null,
      "overflow_y": null,
      "padding": null,
      "right": null,
      "top": null,
      "visibility": null,
      "width": null
     }
    },
    "dd7fa8879622411492879fa4e86d037a": {
     "model_module": "@jupyter-widgets/controls",
     "model_module_version": "1.5.0",
     "model_name": "HBoxModel",
     "state": {
      "_dom_classes": [],
      "_model_module": "@jupyter-widgets/controls",
      "_model_module_version": "1.5.0",
      "_model_name": "HBoxModel",
      "_view_count": null,
      "_view_module": "@jupyter-widgets/controls",
      "_view_module_version": "1.5.0",
      "_view_name": "HBoxView",
      "box_style": "",
      "children": [
       "IPY_MODEL_085f727c35c1455fa97be44ebd8b6e31",
       "IPY_MODEL_f0adbb92ba524746a03a33bbfac87722",
       "IPY_MODEL_0409cc78514a424c8f3a03e53208f433"
      ],
      "layout": "IPY_MODEL_4d544a985e974d28950a1794b8bb94dd"
     }
    },
    "ddc64285bf9d4e19b17919b31fe30fcb": {
     "model_module": "@jupyter-widgets/controls",
     "model_module_version": "1.5.0",
     "model_name": "HTMLModel",
     "state": {
      "_dom_classes": [],
      "_model_module": "@jupyter-widgets/controls",
      "_model_module_version": "1.5.0",
      "_model_name": "HTMLModel",
      "_view_count": null,
      "_view_module": "@jupyter-widgets/controls",
      "_view_module_version": "1.5.0",
      "_view_name": "HTMLView",
      "description": "",
      "description_tooltip": null,
      "layout": "IPY_MODEL_9492b64a3c004ed88bc09fbca1ec3122",
      "placeholder": "​",
      "style": "IPY_MODEL_7397ad10dda64fcabb835bc934b4af92",
      "value": " 28.0/28.0 [00:00&lt;00:00, 740B/s]"
     }
    },
    "e052d773374c43b6b9e6b7e5ff98311a": {
     "model_module": "@jupyter-widgets/base",
     "model_module_version": "1.2.0",
     "model_name": "LayoutModel",
     "state": {
      "_model_module": "@jupyter-widgets/base",
      "_model_module_version": "1.2.0",
      "_model_name": "LayoutModel",
      "_view_count": null,
      "_view_module": "@jupyter-widgets/base",
      "_view_module_version": "1.2.0",
      "_view_name": "LayoutView",
      "align_content": null,
      "align_items": null,
      "align_self": null,
      "border": null,
      "bottom": null,
      "display": null,
      "flex": null,
      "flex_flow": null,
      "grid_area": null,
      "grid_auto_columns": null,
      "grid_auto_flow": null,
      "grid_auto_rows": null,
      "grid_column": null,
      "grid_gap": null,
      "grid_row": null,
      "grid_template_areas": null,
      "grid_template_columns": null,
      "grid_template_rows": null,
      "height": null,
      "justify_content": null,
      "justify_items": null,
      "left": null,
      "margin": null,
      "max_height": null,
      "max_width": null,
      "min_height": null,
      "min_width": null,
      "object_fit": null,
      "object_position": null,
      "order": null,
      "overflow": null,
      "overflow_x": null,
      "overflow_y": null,
      "padding": null,
      "right": null,
      "top": null,
      "visibility": null,
      "width": null
     }
    },
    "e6cb6cf07e6f4e008796d03f6d75ffea": {
     "model_module": "@jupyter-widgets/base",
     "model_module_version": "1.2.0",
     "model_name": "LayoutModel",
     "state": {
      "_model_module": "@jupyter-widgets/base",
      "_model_module_version": "1.2.0",
      "_model_name": "LayoutModel",
      "_view_count": null,
      "_view_module": "@jupyter-widgets/base",
      "_view_module_version": "1.2.0",
      "_view_name": "LayoutView",
      "align_content": null,
      "align_items": null,
      "align_self": null,
      "border": null,
      "bottom": null,
      "display": null,
      "flex": null,
      "flex_flow": null,
      "grid_area": null,
      "grid_auto_columns": null,
      "grid_auto_flow": null,
      "grid_auto_rows": null,
      "grid_column": null,
      "grid_gap": null,
      "grid_row": null,
      "grid_template_areas": null,
      "grid_template_columns": null,
      "grid_template_rows": null,
      "height": null,
      "justify_content": null,
      "justify_items": null,
      "left": null,
      "margin": null,
      "max_height": null,
      "max_width": null,
      "min_height": null,
      "min_width": null,
      "object_fit": null,
      "object_position": null,
      "order": null,
      "overflow": null,
      "overflow_x": null,
      "overflow_y": null,
      "padding": null,
      "right": null,
      "top": null,
      "visibility": null,
      "width": null
     }
    },
    "eb91c3a804d744609b575ecfd62ad637": {
     "model_module": "@jupyter-widgets/controls",
     "model_module_version": "1.5.0",
     "model_name": "DescriptionStyleModel",
     "state": {
      "_model_module": "@jupyter-widgets/controls",
      "_model_module_version": "1.5.0",
      "_model_name": "DescriptionStyleModel",
      "_view_count": null,
      "_view_module": "@jupyter-widgets/base",
      "_view_module_version": "1.2.0",
      "_view_name": "StyleView",
      "description_width": ""
     }
    },
    "f0adbb92ba524746a03a33bbfac87722": {
     "model_module": "@jupyter-widgets/controls",
     "model_module_version": "1.5.0",
     "model_name": "FloatProgressModel",
     "state": {
      "_dom_classes": [],
      "_model_module": "@jupyter-widgets/controls",
      "_model_module_version": "1.5.0",
      "_model_name": "FloatProgressModel",
      "_view_count": null,
      "_view_module": "@jupyter-widgets/controls",
      "_view_module_version": "1.5.0",
      "_view_name": "ProgressView",
      "bar_style": "success",
      "description": "",
      "description_tooltip": null,
      "layout": "IPY_MODEL_cc8e7b4ca9f042d09e05f4693fb94d68",
      "max": 483,
      "min": 0,
      "orientation": "horizontal",
      "style": "IPY_MODEL_5bece59422164ccfb0d0c34fc9674e25",
      "value": 483
     }
    },
    "f183a7e92e91489cb66273f3a192f838": {
     "model_module": "@jupyter-widgets/controls",
     "model_module_version": "1.5.0",
     "model_name": "HBoxModel",
     "state": {
      "_dom_classes": [],
      "_model_module": "@jupyter-widgets/controls",
      "_model_module_version": "1.5.0",
      "_model_name": "HBoxModel",
      "_view_count": null,
      "_view_module": "@jupyter-widgets/controls",
      "_view_module_version": "1.5.0",
      "_view_name": "HBoxView",
      "box_style": "",
      "children": [
       "IPY_MODEL_64f2005435044eda893b12d0922f872b",
       "IPY_MODEL_f2aab99665b74ff19550d2b82f33857e",
       "IPY_MODEL_97784c7c218f4e6b87bf7e5cba651d30"
      ],
      "layout": "IPY_MODEL_14a6305c3dbb43a2a71e60c5a21b1800"
     }
    },
    "f2aab99665b74ff19550d2b82f33857e": {
     "model_module": "@jupyter-widgets/controls",
     "model_module_version": "1.5.0",
     "model_name": "FloatProgressModel",
     "state": {
      "_dom_classes": [],
      "_model_module": "@jupyter-widgets/controls",
      "_model_module_version": "1.5.0",
      "_model_name": "FloatProgressModel",
      "_view_count": null,
      "_view_module": "@jupyter-widgets/controls",
      "_view_module_version": "1.5.0",
      "_view_name": "ProgressView",
      "bar_style": "success",
      "description": "",
      "description_tooltip": null,
      "layout": "IPY_MODEL_4fa43e5b5f0745a7a5358056a2186ece",
      "max": 231508,
      "min": 0,
      "orientation": "horizontal",
      "style": "IPY_MODEL_76c0f46c54b9473d816d035756c0c74e",
      "value": 231508
     }
    },
    "f765e4c286294cd7bb72aa3ce0cbe49c": {
     "model_module": "@jupyter-widgets/controls",
     "model_module_version": "1.5.0",
     "model_name": "HBoxModel",
     "state": {
      "_dom_classes": [],
      "_model_module": "@jupyter-widgets/controls",
      "_model_module_version": "1.5.0",
      "_model_name": "HBoxModel",
      "_view_count": null,
      "_view_module": "@jupyter-widgets/controls",
      "_view_module_version": "1.5.0",
      "_view_name": "HBoxView",
      "box_style": "",
      "children": [
       "IPY_MODEL_a7d0a3d917bb45f79542890c35aab9cc",
       "IPY_MODEL_a5bbc7e02d55423fb0d7b41bd4d0bda2",
       "IPY_MODEL_ddc64285bf9d4e19b17919b31fe30fcb"
      ],
      "layout": "IPY_MODEL_bdec6cc466d241b690d851368066fbd9"
     }
    }
   }
  }
 },
 "nbformat": 4,
 "nbformat_minor": 5
}
